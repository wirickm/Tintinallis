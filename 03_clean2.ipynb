{
 "cells": [
  {
   "cell_type": "code",
   "execution_count": 3,
   "id": "8b046fa8-bc47-404a-9123-b38481cf73db",
   "metadata": {
    "tags": []
   },
   "outputs": [],
   "source": [
    "import os\n",
    "import glob\n",
    "from dotenv import load_dotenv\n"
   ]
  },
  {
   "cell_type": "code",
   "execution_count": 7,
   "id": "e6d8f10e-99c7-4168-b45f-f928ee3a4b57",
   "metadata": {
    "tags": []
   },
   "outputs": [],
   "source": [
    "# imports for langchain and Chroma and plotly\n",
    "\n",
    "from langchain.document_loaders import DirectoryLoader, TextLoader\n",
    "from langchain.text_splitter import CharacterTextSplitter\n",
    "from langchain.schema import Document\n",
    "from langchain_openai import OpenAIEmbeddings, ChatOpenAI\n",
    "from langchain_chroma import Chroma\n",
    "import numpy as np\n",
    "from sklearn.manifold import TSNE\n",
    "import plotly.graph_objects as go\n",
    "import openai\n"
   ]
  },
  {
   "cell_type": "code",
   "execution_count": 5,
   "id": "5f31a9ee-c3d4-4851-bc49-cf46a90d9268",
   "metadata": {
    "tags": []
   },
   "outputs": [],
   "source": [
    "# price is a factor for our company, so we're going to use a low cost model\n",
    "\n",
    "MODEL = \"gpt-4o-mini\"\n",
    "db_name = \"vector_db\""
   ]
  },
  {
   "cell_type": "code",
   "execution_count": 8,
   "id": "703c92ca-3b10-4d84-94af-ee1782efd0cb",
   "metadata": {
    "tags": []
   },
   "outputs": [
    {
     "name": "stdout",
     "output_type": "stream",
     "text": [
      "✅ OpenAI API Key loaded successfully.\n"
     ]
    }
   ],
   "source": [
    "# In[14]:\n",
    "# Load environment variables from the specified .env file\n",
    "env_path = '/keys.env'  # Update this path if necessary\n",
    "load_dotenv(env_path)\n",
    "\n",
    "# Set the OpenAI API key\n",
    "openai.api_key = os.getenv('OPENAI_API_KEY')\n",
    "\n",
    "# Check if the API key is loaded correctly (optional for debugging)\n",
    "if openai.api_key:\n",
    "    print(\"✅ OpenAI API Key loaded successfully.\")\n",
    "else:\n",
    "    print(\"❌ Error: OpenAI API Key not found. Please check your .env file.\")\n"
   ]
  },
  {
   "cell_type": "code",
   "execution_count": 12,
   "id": "1427d3ef-3b26-4657-878e-e480dad74ec4",
   "metadata": {
    "tags": []
   },
   "outputs": [
    {
     "name": "stdout",
     "output_type": "stream",
     "text": [
      "📄 Input File: /Tintinallis_Emergency_Medicine/Section 1_summaries.md\n",
      "✅ Loaded 1 document(s) from /Tintinallis_Emergency_Medicine/Section 1_summaries.md.\n",
      "✅ Split document into 46 chunks.\n"
     ]
    }
   ],
   "source": [
    "# In[16]:\n",
    "# Path to the specific Markdown file\n",
    "\n",
    "#= r'/Tintinallis_Emergency_Medicine/Section 1.md'  # Update this path if necessary\n",
    "input_file_path = r'/Tintinallis_Emergency_Medicine/Section 1_summaries.md'  # Output summary file\n",
    "\n",
    "print(f\"📄 Input File: {input_file_path}\")\n",
    "#print(f\"📄 Output Summary File: {output_file_path}\")\n",
    "\n",
    "# In[17]:\n",
    "#from langchain.document_loaders import TextLoader\n",
    "#from langchain.text_splitter import CharacterTextSplitter\n",
    "\n",
    "# Load the specific Markdown document using LangChain's TextLoader\n",
    "loader = TextLoader(input_file_path, autodetect_encoding=True)\n",
    "documents = loader.load()\n",
    "\n",
    "print(f\"✅ Loaded {len(documents)} document(s) from {input_file_path}.\")\n",
    "\n",
    "# Split the document into chunks using LangChain's CharacterTextSplitter\n",
    "text_splitter = CharacterTextSplitter(chunk_size=3000, chunk_overlap=400)\n",
    "chunks = text_splitter.split_documents(documents)\n",
    "\n",
    "print(f\"✅ Split document into {len(chunks)} chunks.\")\n",
    "\n"
   ]
  },
  {
   "cell_type": "code",
   "execution_count": 13,
   "id": "00b4eebb-147d-4d3a-b46a-ac84a49bf9be",
   "metadata": {
    "tags": []
   },
   "outputs": [],
   "source": [
    "embeddings = OpenAIEmbeddings()\n"
   ]
  },
  {
   "cell_type": "code",
   "execution_count": 14,
   "id": "29bbe641-ea8e-499e-ac47-aebcff1f8d2f",
   "metadata": {
    "tags": []
   },
   "outputs": [],
   "source": [
    "if os.path.exists(db_name):\n",
    "    Chroma(persist_directory=db_name, embedding_function=embeddings).delete_collection()"
   ]
  },
  {
   "cell_type": "code",
   "execution_count": 15,
   "id": "4875f113-7215-44e3-b4ad-8d4caf5effca",
   "metadata": {
    "tags": []
   },
   "outputs": [
    {
     "name": "stdout",
     "output_type": "stream",
     "text": [
      "Vectorstore created with 46 documents\n"
     ]
    }
   ],
   "source": [
    "# Create our Chroma vectorstore!\n",
    "\n",
    "vectorstore = Chroma.from_documents(documents=chunks, embedding=embeddings, persist_directory=db_name)\n",
    "print(f\"Vectorstore created with {vectorstore._collection.count()} documents\")"
   ]
  },
  {
   "cell_type": "code",
   "execution_count": 16,
   "id": "325cc244-38a1-449b-91ea-f9f5c1d6d4d3",
   "metadata": {
    "tags": []
   },
   "outputs": [
    {
     "name": "stdout",
     "output_type": "stream",
     "text": [
      "The vectors have 1,536 dimensions\n"
     ]
    }
   ],
   "source": [
    "# Get one vector and find how many dimensions it has\n",
    "\n",
    "collection = vectorstore._collection\n",
    "sample_embedding = collection.get(limit=1, include=[\"embeddings\"])[\"embeddings\"][0]\n",
    "dimensions = len(sample_embedding)\n",
    "print(f\"The vectors have {dimensions:,} dimensions\")"
   ]
  },
  {
   "cell_type": "code",
   "execution_count": 24,
   "id": "86e54ce3-c6ab-4177-9702-e9ea28609ce2",
   "metadata": {
    "tags": []
   },
   "outputs": [],
   "source": [
    "# Prework\n",
    "\n",
    "result = collection.get(include=['embeddings', 'documents', 'metadatas'])\n",
    "vectors = np.array(result['embeddings'])\n",
    "documents = result['documents']\n",
    "#doc_types = [metadata['doc_type'] for metadata in result['metadatas']]\n",
    "#colors = [['blue', 'green', 'red', 'orange'][['products', 'employees', 'contracts', 'company'].index(t)] for t in doc_types]"
   ]
  },
  {
   "cell_type": "code",
   "execution_count": 33,
   "id": "d23681de-e7f7-4bd7-98f8-26c6a669eb04",
   "metadata": {
    "tags": []
   },
   "outputs": [
    {
     "name": "stdout",
     "output_type": "stream",
     "text": [
      "✅ Extracted doc_types for 46 chunks.\n"
     ]
    },
    {
     "data": {
      "text/plain": [
       "['Section 1: Resuscitative Problems and Techniques Advanced Airway Support',\n",
       " 'Section 1: Resuscitative Problems and Techniques Advanced Airway Support',\n",
       " 'Section 1: Resuscitative Problems and Techniques Advanced Airway Support',\n",
       " 'Section 1: Resuscitative Problems and Techniques Advanced Airway Support',\n",
       " 'Section 1: Resuscitative Problems and Techniques Advanced Airway Support',\n",
       " 'Section 1: Resuscitative Problems and Techniques Advanced Airway Support',\n",
       " 'Section 1: Resuscitative Problems and Techniques Advanced Airway Support',\n",
       " 'Section 1: Resuscitative Problems and Techniques Advanced Airway Support',\n",
       " 'Section 1: Resuscitative Problems and Techniques Advanced Airway Support',\n",
       " 'Section 1: Resuscitative Problems and Techniques Advanced Airway Support',\n",
       " 'Section 1: Resuscitative Problems and Techniques Advanced Airway Support',\n",
       " 'Section 1: Resuscitative Problems and Techniques Advanced Airway Support',\n",
       " 'Section 1: Resuscitative Problems and Techniques Advanced Airway Support',\n",
       " 'Section 1: Resuscitative Problems and Techniques Advanced Airway Support',\n",
       " 'Section 1: Resuscitative Problems and Techniques Advanced Airway Support',\n",
       " 'Section 1: Resuscitative Problems and Techniques Advanced Airway Support',\n",
       " 'Section 1: Resuscitative Problems and Techniques Advanced Airway Support',\n",
       " 'Section 1: Resuscitative Problems and Techniques Advanced Airway Support',\n",
       " 'Section 1: Resuscitative Problems and Techniques Advanced Airway Support',\n",
       " 'Section 1: Resuscitative Problems and Techniques Advanced Airway Support',\n",
       " 'Section 1: Resuscitative Problems and Techniques Advanced Airway Support',\n",
       " 'Section 1: Resuscitative Problems and Techniques Advanced Airway Support',\n",
       " 'Section 1: Resuscitative Problems and Techniques Advanced Airway Support',\n",
       " 'Section 1: Resuscitative Problems and Techniques Advanced Airway Support',\n",
       " 'Section 1: Resuscitative Problems and Techniques Advanced Airway Support',\n",
       " 'Section 1: Resuscitative Problems and Techniques Advanced Airway Support',\n",
       " 'Section 1: Resuscitative Problems and Techniques Advanced Airway Support',\n",
       " 'Section 1: Resuscitative Problems and Techniques Advanced Airway Support',\n",
       " 'Section 1: Resuscitative Problems and Techniques Advanced Airway Support',\n",
       " 'Section 1: Resuscitative Problems and Techniques Advanced Airway Support',\n",
       " 'Section 1: Resuscitative Problems and Techniques Advanced Airway Support',\n",
       " 'Section 1: Resuscitative Problems and Techniques Advanced Airway Support',\n",
       " 'Section 1: Resuscitative Problems and Techniques Advanced Airway Support',\n",
       " 'Section 1: Resuscitative Problems and Techniques Advanced Airway Support',\n",
       " 'Section 1: Resuscitative Problems and Techniques Advanced Airway Support',\n",
       " 'Section 1: Resuscitative Problems and Techniques Advanced Airway Support',\n",
       " 'Section 1: Resuscitative Problems and Techniques Advanced Airway Support',\n",
       " 'Section 1: Resuscitative Problems and Techniques Advanced Airway Support',\n",
       " 'Section 1: Resuscitative Problems and Techniques Advanced Airway Support',\n",
       " 'Section 1: Resuscitative Problems and Techniques Advanced Airway Support',\n",
       " 'Section 1: Resuscitative Problems and Techniques Advanced Airway Support',\n",
       " 'Section 1: Resuscitative Problems and Techniques Advanced Airway Support',\n",
       " 'Section 1: Resuscitative Problems and Techniques Advanced Airway Support',\n",
       " 'Section 1: Resuscitative Problems and Techniques Advanced Airway Support',\n",
       " 'Section 1: Resuscitative Problems and Techniques Advanced Airway Support',\n",
       " 'Section 1: Resuscitative Problems and Techniques Advanced Airway Support']"
      ]
     },
     "execution_count": 33,
     "metadata": {},
     "output_type": "execute_result"
    }
   ],
   "source": [
    "# Extract the doc_type from metadata\n",
    "doc_types = [metadata.get('doc_type', 'Section 1: Resuscitative Problems and Techniques\\\n",
    " Advanced Airway Support') for metadata in result['metadatas']]\n",
    "\n",
    "print(f\"✅ Extracted doc_types for {len(doc_types)} chunks.\")\n",
    "doc_types"
   ]
  },
  {
   "cell_type": "code",
   "execution_count": 34,
   "id": "83b1bda2-de21-48db-af76-09763ea0fc7d",
   "metadata": {
    "tags": []
   },
   "outputs": [
    {
     "name": "stdout",
     "output_type": "stream",
     "text": [
      "Unique doc_types found: ['Section 1: Resuscitative Problems and Techniques Advanced Airway Support']\n"
     ]
    }
   ],
   "source": [
    "# In[19]:\n",
    "import matplotlib.pyplot as plt\n",
    "import numpy as np\n",
    "\n",
    "# Identify unique document types\n",
    "unique_doc_types = sorted(set(doc_types))\n",
    "print(f\"Unique doc_types found: {unique_doc_types}\")\n",
    "\n",
    "# Define a color palette\n",
    "# Using a predefined color palette from matplotlib\n",
    "color_palette = plt.get_cmap('tab20')  # 'tab20' has 20 distinct colors\n",
    "\n",
    "# Create a mapping from doc_type to color\n",
    "color_map = {doc_type: color_palette(i) for i, doc_type in enumerate(unique_doc_types)}\n",
    "\n",
    "# Assign colors to each chunk based on its doc_type\n",
    "colors = [color_map[doc_type] for doc_type in doc_types]\n",
    "\n",
    "# For Plotly, colors need to be in hexadecimal or numeric format\n",
    "# Convert RGBA to hexadecimal\n",
    "def rgba_to_hex(rgba):\n",
    "    return f'rgba({int(rgba[0]*255)}, {int(rgba[1]*255)}, {int(rgba[2]*255)}, {rgba[3]})'\n",
    "\n",
    "colors_hex = [rgba_to_hex(color) for color in colors]\n"
   ]
  },
  {
   "cell_type": "code",
   "execution_count": 41,
   "id": "f66b3373-7d7f-4f54-b8b9-f829f196e5b7",
   "metadata": {
    "tags": []
   },
   "outputs": [
    {
     "data": {
      "application/vnd.plotly.v1+json": {
       "config": {
        "plotlyServerURL": "https://plot.ly"
       },
       "data": [
        {
         "hoverinfo": "text",
         "marker": {
          "color": [
           [
            0.12156862745098039,
            0.4666666666666667,
            0.7058823529411765,
            1
           ],
           [
            0.12156862745098039,
            0.4666666666666667,
            0.7058823529411765,
            1
           ],
           [
            0.12156862745098039,
            0.4666666666666667,
            0.7058823529411765,
            1
           ],
           [
            0.12156862745098039,
            0.4666666666666667,
            0.7058823529411765,
            1
           ],
           [
            0.12156862745098039,
            0.4666666666666667,
            0.7058823529411765,
            1
           ],
           [
            0.12156862745098039,
            0.4666666666666667,
            0.7058823529411765,
            1
           ],
           [
            0.12156862745098039,
            0.4666666666666667,
            0.7058823529411765,
            1
           ],
           [
            0.12156862745098039,
            0.4666666666666667,
            0.7058823529411765,
            1
           ],
           [
            0.12156862745098039,
            0.4666666666666667,
            0.7058823529411765,
            1
           ],
           [
            0.12156862745098039,
            0.4666666666666667,
            0.7058823529411765,
            1
           ],
           [
            0.12156862745098039,
            0.4666666666666667,
            0.7058823529411765,
            1
           ],
           [
            0.12156862745098039,
            0.4666666666666667,
            0.7058823529411765,
            1
           ],
           [
            0.12156862745098039,
            0.4666666666666667,
            0.7058823529411765,
            1
           ],
           [
            0.12156862745098039,
            0.4666666666666667,
            0.7058823529411765,
            1
           ],
           [
            0.12156862745098039,
            0.4666666666666667,
            0.7058823529411765,
            1
           ],
           [
            0.12156862745098039,
            0.4666666666666667,
            0.7058823529411765,
            1
           ],
           [
            0.12156862745098039,
            0.4666666666666667,
            0.7058823529411765,
            1
           ],
           [
            0.12156862745098039,
            0.4666666666666667,
            0.7058823529411765,
            1
           ],
           [
            0.12156862745098039,
            0.4666666666666667,
            0.7058823529411765,
            1
           ],
           [
            0.12156862745098039,
            0.4666666666666667,
            0.7058823529411765,
            1
           ],
           [
            0.12156862745098039,
            0.4666666666666667,
            0.7058823529411765,
            1
           ],
           [
            0.12156862745098039,
            0.4666666666666667,
            0.7058823529411765,
            1
           ],
           [
            0.12156862745098039,
            0.4666666666666667,
            0.7058823529411765,
            1
           ],
           [
            0.12156862745098039,
            0.4666666666666667,
            0.7058823529411765,
            1
           ],
           [
            0.12156862745098039,
            0.4666666666666667,
            0.7058823529411765,
            1
           ],
           [
            0.12156862745098039,
            0.4666666666666667,
            0.7058823529411765,
            1
           ],
           [
            0.12156862745098039,
            0.4666666666666667,
            0.7058823529411765,
            1
           ],
           [
            0.12156862745098039,
            0.4666666666666667,
            0.7058823529411765,
            1
           ],
           [
            0.12156862745098039,
            0.4666666666666667,
            0.7058823529411765,
            1
           ],
           [
            0.12156862745098039,
            0.4666666666666667,
            0.7058823529411765,
            1
           ],
           [
            0.12156862745098039,
            0.4666666666666667,
            0.7058823529411765,
            1
           ],
           [
            0.12156862745098039,
            0.4666666666666667,
            0.7058823529411765,
            1
           ],
           [
            0.12156862745098039,
            0.4666666666666667,
            0.7058823529411765,
            1
           ],
           [
            0.12156862745098039,
            0.4666666666666667,
            0.7058823529411765,
            1
           ],
           [
            0.12156862745098039,
            0.4666666666666667,
            0.7058823529411765,
            1
           ],
           [
            0.12156862745098039,
            0.4666666666666667,
            0.7058823529411765,
            1
           ],
           [
            0.12156862745098039,
            0.4666666666666667,
            0.7058823529411765,
            1
           ],
           [
            0.12156862745098039,
            0.4666666666666667,
            0.7058823529411765,
            1
           ],
           [
            0.12156862745098039,
            0.4666666666666667,
            0.7058823529411765,
            1
           ],
           [
            0.12156862745098039,
            0.4666666666666667,
            0.7058823529411765,
            1
           ],
           [
            0.12156862745098039,
            0.4666666666666667,
            0.7058823529411765,
            1
           ],
           [
            0.12156862745098039,
            0.4666666666666667,
            0.7058823529411765,
            1
           ],
           [
            0.12156862745098039,
            0.4666666666666667,
            0.7058823529411765,
            1
           ],
           [
            0.12156862745098039,
            0.4666666666666667,
            0.7058823529411765,
            1
           ],
           [
            0.12156862745098039,
            0.4666666666666667,
            0.7058823529411765,
            1
           ],
           [
            0.12156862745098039,
            0.4666666666666667,
            0.7058823529411765,
            1
           ]
          ],
          "opacity": 0.8,
          "size": 5
         },
         "mode": "markers",
         "text": [
          "Type: Section 1: Resuscitative Problems and Techniques Advanced Airway Support<br>Text: Control of the airway is the single most important task for emergency resuscitation.\n\n**INITIAL APPR...",
          "Type: Section 1: Resuscitative Problems and Techniques Advanced Airway Support<br>Text: 1. Prepare equipment, personnel, and drugs before attempting intubation. Assess airway difficulty an...",
          "Type: Section 1: Resuscitative Problems and Techniques Advanced Airway Support<br>Text: Immediate complications include unrecognized esophageal intubation or mainstem bronchus intubation.\n...",
          "Type: Section 1: Resuscitative Problems and Techniques Advanced Airway Support<br>Text: 1. Prepare equipment, medication, and personnel before initiation of RSI. Check equipment function. ...",
          "Type: Section 1: Resuscitative Problems and Techniques Advanced Airway Support<br>Text: Videolaryngoscopy is an excellent option for airway rescue or as a primary intubation technique, dem...",
          "Type: Section 1: Resuscitative Problems and Techniques Advanced Airway Support<br>Text: Bilevel positive airway pressure (BiPAP) uses different levels of pressure during inspiration and ex...",
          "Type: Section 1: Resuscitative Problems and Techniques Advanced Airway Support<br>Text: Emergency Department Care and Disposition  \n1. Discontinue precipitating drugs (alcohol, tobacco, or...",
          "Type: Section 1: Resuscitative Problems and Techniques Advanced Airway Support<br>Text: Emergency Department Care and Disposition  \nSinus bradycardia usually does not require specific trea...",
          "Type: Section 1: Resuscitative Problems and Techniques Advanced Airway Support<br>Text: Emergency Department Care and Disposition  \nDiagnose and treat the underlying condition.  \nSupravent...",
          "Type: Section 1: Resuscitative Problems and Techniques Advanced Airway Support<br>Text: Emergency Department Care and Disposition:\n1. Perform synchronized cardioversion in any unstable pat...",
          "Type: Section 1: Resuscitative Problems and Techniques Advanced Airway Support<br>Text: Atrial flutter originates from a small area within the atria. ECG characteristics include a regular ...",
          "Type: Section 1: Resuscitative Problems and Techniques Advanced Airway Support<br>Text: Emergency Department Care and Disposition:\n1. Treat unstable patients with synchronized cardioversio...",
          "Type: Section 1: Resuscitative Problems and Techniques Advanced Airway Support<br>Text: Emergency Department Care and Disposition:\n1. Treat the underlying disorder.\n2. Specific antiarrhyth...",
          "Type: Section 1: Resuscitative Problems and Techniques Advanced Airway Support<br>Text: Emergency Department Care and Disposition:\n1. Stable patients require no treatment.\n2. Patients with...",
          "Type: Section 1: Resuscitative Problems and Techniques Advanced Airway Support<br>Text: Emergency Department Care and Disposition for VT:\n1. Defibrillate pulseless VT with unsynchronized c...",
          "Type: Section 1: Resuscitative Problems and Techniques Advanced Airway Support<br>Text: Emergency Department Care and Disposition  \n1. Perform immediate electrical defibrillation (unsynchr...",
          "Type: Section 1: Resuscitative Problems and Techniques Advanced Airway Support<br>Text: Emergency Department Care and Disposition  \n1. Specific treatment is not necessary unless slow ventr...",
          "Type: Section 1: Resuscitative Problems and Techniques Advanced Airway Support<br>Text: When third-degree AV block occurs at the infranodal level, the ventricles are driven by a ventricula...",
          "Type: Section 1: Resuscitative Problems and Techniques Advanced Airway Support<br>Text: Preterminal Rhythms:\nPulseless Electrical Activity:\nPulseless electrical activity is the presence of...",
          "Type: Section 1: Resuscitative Problems and Techniques Advanced Airway Support<br>Text: Children primarily develop cardiac arrest secondary to hypoxia from respiratory arrest or shock synd...",
          "Type: Section 1: Resuscitative Problems and Techniques Advanced Airway Support<br>Text: Directions for use: (1) measure patient length with centimeter tape; (2) using measured length in ce...",
          "Type: Section 1: Resuscitative Problems and Techniques Advanced Airway Support<br>Text: Begin fluid resuscitation with rapid infusion of isotonic saline, 20 mL/kilogram IV bolus. Repeat as...",
          "Type: Section 1: Resuscitative Problems and Techniques Advanced Airway Support<br>Text: TABLE 3-4 Treatment of Pediatric Pulseless Arrest\n1. Initiate BLS; CPR; administer oxygen, attach mo...",
          "Type: Section 1: Resuscitative Problems and Techniques Advanced Airway Support<br>Text: Ventricular tachycardia:\n1. Perform synchronized cardioversion, 0.5-1 J/kilogram. Sedate if possible...",
          "Type: Section 1: Resuscitative Problems and Techniques Advanced Airway Support<br>Text: Neonatal Resuscitation:\n1. The first step in neonatal resuscitation is to maintain body temperature....",
          "Type: Section 1: Resuscitative Problems and Techniques Advanced Airway Support<br>Text: After intubation and assisted ventilation for 30 seconds, begin cardiac compressions at 90 chest com...",
          "Type: Section 1: Resuscitative Problems and Techniques Advanced Airway Support<br>Text: Volume loss and dehydration can be inferred by the patient history. Historical features include: vom...",
          "Type: Section 1: Resuscitative Problems and Techniques Advanced Airway Support<br>Text: Hyponatremia ([Na + ] < 135 mEq/L)  \nClinical Features  \nThe clinical manifestations of hyponatremia...",
          "Type: Section 1: Resuscitative Problems and Techniques Advanced Airway Support<br>Text: Diagnosis and Differential  \nHypernatremia is most commonly caused by a decrease in total body water...",
          "Type: Section 1: Resuscitative Problems and Techniques Advanced Airway Support<br>Text: **Hypokalemia ([K+] < 3.5 mEq/L)**  \nClinical Features: The signs and symptoms of hypokalemia usuall...",
          "Type: Section 1: Resuscitative Problems and Techniques Advanced Airway Support<br>Text: TABLE 4-4 Causes of Hyperkalemia\n- Factitious: Laboratory error, Hemolysis and leukocytosis\n- Increa...",
          "Type: Section 1: Resuscitative Problems and Techniques Advanced Airway Support<br>Text: Diagnosis and Differential: Causes include shock, sepsis, fat embolism, renal failure, pancreatitis,...",
          "Type: Section 1: Resuscitative Problems and Techniques Advanced Airway Support<br>Text: Hypomagnesemia  \nClinical Findings  \n[Mg2+], [K+], and [PO4−] move together intra- and extracellular...",
          "Type: Section 1: Resuscitative Problems and Techniques Advanced Airway Support<br>Text: Emergency Department Care and Disposition  \n1. In many patients, stopping [Mg2+] intake is sufficien...",
          "Type: Section 1: Resuscitative Problems and Techniques Advanced Airway Support<br>Text: Stepwise Method of Acid-Base Clinical Problem Solving:\n- Use the patient’s pre-illness values as a b...",
          "Type: Section 1: Resuscitative Problems and Techniques Advanced Airway Support<br>Text: Metabolic Acidosis:\n- Metabolic acidosis should be divided into an increased and normal AG acidosis....",
          "Type: Section 1: Resuscitative Problems and Techniques Advanced Airway Support<br>Text: Indications for bicarbonate therapy are listed in Table 4-7. Give 0.5 mEq/kilogram bicarbonate for e...",
          "Type: Section 1: Resuscitative Problems and Techniques Advanced Airway Support<br>Text: Emergency Department Care and Disposition for Metabolic Alkalosis:\n1. Administer NS to treat dehydra...",
          "Type: Section 1: Resuscitative Problems and Techniques Advanced Airway Support<br>Text: Factors that influence the clinical presentation of a patient in shock include the etiology, duratio...",
          "Type: Section 1: Resuscitative Problems and Techniques Advanced Airway Support<br>Text: The respiratory rate is frequently elevated early in shock. Increased minute ventilation, increased ...",
          "Type: Section 1: Resuscitative Problems and Techniques Advanced Airway Support<br>Text: The clinical presentation and presumed etiology of shock will dictate the diagnostic studies, monito...",
          "Type: Section 1: Resuscitative Problems and Techniques Advanced Airway Support<br>Text: Supplemental high-flow oxygen. If mechanical ventilation is used, neuromuscular blocking agents shou...",
          "Type: Section 1: Resuscitative Problems and Techniques Advanced Airway Support<br>Text: Blood remains the ideal resuscitative fluid. When possible, use fully cross-matched PRBCs. If the cl...",
          "Type: Section 1: Resuscitative Problems and Techniques Advanced Airway Support<br>Text: Early surgical or medical consultation for admission or transfer is indicated.\n\nlocalized urticaria ...",
          "Type: Section 1: Resuscitative Problems and Techniques Advanced Airway Support<br>Text: Resuscitation must begin with airway, breathing, and circulation. Patients with confirmed or suspect...",
          "Type: Section 1: Resuscitative Problems and Techniques Advanced Airway Support<br>Text: C1 esterase inhibitor replacement is the primary treatment for patients with unstable or refractory ..."
         ],
         "type": "scatter",
         "x": [
          -9.346824,
          -131.88487,
          39.33585,
          -7.924113,
          41.47446,
          -83.82476,
          -82.38613,
          -43.923767,
          76.81502,
          110.03323,
          112.3559,
          84.02044,
          36.171513,
          -109.109924,
          66.66926,
          2.9555595,
          -51.52938,
          48.681637,
          59.55724,
          34.769806,
          70.45803,
          -49.431007,
          -28.869478,
          36.288563,
          2.5420008,
          -42.400806,
          -82.29994,
          -35.81849,
          -86.96344,
          -21.472118,
          -54.48173,
          72.602875,
          -12.412892,
          -31.57695,
          135.9553,
          -30.37244,
          17.020407,
          -9.79364,
          43.348225,
          -69.566185,
          8.275721,
          -118.24704,
          31.730528,
          121.022224,
          114.423004,
          10.1967535
         ],
         "y": [
          -106.40563,
          -71.9744,
          -114.06141,
          -93.180626,
          -55.730877,
          27.51455,
          -72.73559,
          25.470062,
          -26.411943,
          1.3873004,
          -77.8285,
          18.351011,
          -26.950315,
          54.815624,
          -46.11734,
          3.108942,
          -38.544823,
          -72.13185,
          24.557165,
          69.36406,
          66.71609,
          -105.55403,
          89.792366,
          -126.67506,
          30.14479,
          68.2716,
          -23.562588,
          -31.52407,
          -11.745322,
          -35.888958,
          18.937735,
          -2.7130916,
          21.570555,
          -19.16159,
          1.5667713,
          86.850975,
          9.6303005,
          58.368267,
          89.4335,
          95.41731,
          129.33286,
          -2.8600183,
          94.37145,
          -80.03321,
          63.510956,
          -46.665096
         ]
        }
       ],
       "layout": {
        "height": 600,
        "margin": {
         "b": 10,
         "l": 10,
         "r": 20,
         "t": 40
        },
        "scene": {
         "xaxis": {
          "title": {
           "text": "x"
          }
         },
         "yaxis": {
          "title": {
           "text": "y"
          }
         }
        },
        "template": {
         "data": {
          "bar": [
           {
            "error_x": {
             "color": "#2a3f5f"
            },
            "error_y": {
             "color": "#2a3f5f"
            },
            "marker": {
             "line": {
              "color": "#E5ECF6",
              "width": 0.5
             },
             "pattern": {
              "fillmode": "overlay",
              "size": 10,
              "solidity": 0.2
             }
            },
            "type": "bar"
           }
          ],
          "barpolar": [
           {
            "marker": {
             "line": {
              "color": "#E5ECF6",
              "width": 0.5
             },
             "pattern": {
              "fillmode": "overlay",
              "size": 10,
              "solidity": 0.2
             }
            },
            "type": "barpolar"
           }
          ],
          "carpet": [
           {
            "aaxis": {
             "endlinecolor": "#2a3f5f",
             "gridcolor": "white",
             "linecolor": "white",
             "minorgridcolor": "white",
             "startlinecolor": "#2a3f5f"
            },
            "baxis": {
             "endlinecolor": "#2a3f5f",
             "gridcolor": "white",
             "linecolor": "white",
             "minorgridcolor": "white",
             "startlinecolor": "#2a3f5f"
            },
            "type": "carpet"
           }
          ],
          "choropleth": [
           {
            "colorbar": {
             "outlinewidth": 0,
             "ticks": ""
            },
            "type": "choropleth"
           }
          ],
          "contour": [
           {
            "colorbar": {
             "outlinewidth": 0,
             "ticks": ""
            },
            "colorscale": [
             [
              0,
              "#0d0887"
             ],
             [
              0.1111111111111111,
              "#46039f"
             ],
             [
              0.2222222222222222,
              "#7201a8"
             ],
             [
              0.3333333333333333,
              "#9c179e"
             ],
             [
              0.4444444444444444,
              "#bd3786"
             ],
             [
              0.5555555555555556,
              "#d8576b"
             ],
             [
              0.6666666666666666,
              "#ed7953"
             ],
             [
              0.7777777777777778,
              "#fb9f3a"
             ],
             [
              0.8888888888888888,
              "#fdca26"
             ],
             [
              1,
              "#f0f921"
             ]
            ],
            "type": "contour"
           }
          ],
          "contourcarpet": [
           {
            "colorbar": {
             "outlinewidth": 0,
             "ticks": ""
            },
            "type": "contourcarpet"
           }
          ],
          "heatmap": [
           {
            "colorbar": {
             "outlinewidth": 0,
             "ticks": ""
            },
            "colorscale": [
             [
              0,
              "#0d0887"
             ],
             [
              0.1111111111111111,
              "#46039f"
             ],
             [
              0.2222222222222222,
              "#7201a8"
             ],
             [
              0.3333333333333333,
              "#9c179e"
             ],
             [
              0.4444444444444444,
              "#bd3786"
             ],
             [
              0.5555555555555556,
              "#d8576b"
             ],
             [
              0.6666666666666666,
              "#ed7953"
             ],
             [
              0.7777777777777778,
              "#fb9f3a"
             ],
             [
              0.8888888888888888,
              "#fdca26"
             ],
             [
              1,
              "#f0f921"
             ]
            ],
            "type": "heatmap"
           }
          ],
          "heatmapgl": [
           {
            "colorbar": {
             "outlinewidth": 0,
             "ticks": ""
            },
            "colorscale": [
             [
              0,
              "#0d0887"
             ],
             [
              0.1111111111111111,
              "#46039f"
             ],
             [
              0.2222222222222222,
              "#7201a8"
             ],
             [
              0.3333333333333333,
              "#9c179e"
             ],
             [
              0.4444444444444444,
              "#bd3786"
             ],
             [
              0.5555555555555556,
              "#d8576b"
             ],
             [
              0.6666666666666666,
              "#ed7953"
             ],
             [
              0.7777777777777778,
              "#fb9f3a"
             ],
             [
              0.8888888888888888,
              "#fdca26"
             ],
             [
              1,
              "#f0f921"
             ]
            ],
            "type": "heatmapgl"
           }
          ],
          "histogram": [
           {
            "marker": {
             "pattern": {
              "fillmode": "overlay",
              "size": 10,
              "solidity": 0.2
             }
            },
            "type": "histogram"
           }
          ],
          "histogram2d": [
           {
            "colorbar": {
             "outlinewidth": 0,
             "ticks": ""
            },
            "colorscale": [
             [
              0,
              "#0d0887"
             ],
             [
              0.1111111111111111,
              "#46039f"
             ],
             [
              0.2222222222222222,
              "#7201a8"
             ],
             [
              0.3333333333333333,
              "#9c179e"
             ],
             [
              0.4444444444444444,
              "#bd3786"
             ],
             [
              0.5555555555555556,
              "#d8576b"
             ],
             [
              0.6666666666666666,
              "#ed7953"
             ],
             [
              0.7777777777777778,
              "#fb9f3a"
             ],
             [
              0.8888888888888888,
              "#fdca26"
             ],
             [
              1,
              "#f0f921"
             ]
            ],
            "type": "histogram2d"
           }
          ],
          "histogram2dcontour": [
           {
            "colorbar": {
             "outlinewidth": 0,
             "ticks": ""
            },
            "colorscale": [
             [
              0,
              "#0d0887"
             ],
             [
              0.1111111111111111,
              "#46039f"
             ],
             [
              0.2222222222222222,
              "#7201a8"
             ],
             [
              0.3333333333333333,
              "#9c179e"
             ],
             [
              0.4444444444444444,
              "#bd3786"
             ],
             [
              0.5555555555555556,
              "#d8576b"
             ],
             [
              0.6666666666666666,
              "#ed7953"
             ],
             [
              0.7777777777777778,
              "#fb9f3a"
             ],
             [
              0.8888888888888888,
              "#fdca26"
             ],
             [
              1,
              "#f0f921"
             ]
            ],
            "type": "histogram2dcontour"
           }
          ],
          "mesh3d": [
           {
            "colorbar": {
             "outlinewidth": 0,
             "ticks": ""
            },
            "type": "mesh3d"
           }
          ],
          "parcoords": [
           {
            "line": {
             "colorbar": {
              "outlinewidth": 0,
              "ticks": ""
             }
            },
            "type": "parcoords"
           }
          ],
          "pie": [
           {
            "automargin": true,
            "type": "pie"
           }
          ],
          "scatter": [
           {
            "fillpattern": {
             "fillmode": "overlay",
             "size": 10,
             "solidity": 0.2
            },
            "type": "scatter"
           }
          ],
          "scatter3d": [
           {
            "line": {
             "colorbar": {
              "outlinewidth": 0,
              "ticks": ""
             }
            },
            "marker": {
             "colorbar": {
              "outlinewidth": 0,
              "ticks": ""
             }
            },
            "type": "scatter3d"
           }
          ],
          "scattercarpet": [
           {
            "marker": {
             "colorbar": {
              "outlinewidth": 0,
              "ticks": ""
             }
            },
            "type": "scattercarpet"
           }
          ],
          "scattergeo": [
           {
            "marker": {
             "colorbar": {
              "outlinewidth": 0,
              "ticks": ""
             }
            },
            "type": "scattergeo"
           }
          ],
          "scattergl": [
           {
            "marker": {
             "colorbar": {
              "outlinewidth": 0,
              "ticks": ""
             }
            },
            "type": "scattergl"
           }
          ],
          "scattermapbox": [
           {
            "marker": {
             "colorbar": {
              "outlinewidth": 0,
              "ticks": ""
             }
            },
            "type": "scattermapbox"
           }
          ],
          "scatterpolar": [
           {
            "marker": {
             "colorbar": {
              "outlinewidth": 0,
              "ticks": ""
             }
            },
            "type": "scatterpolar"
           }
          ],
          "scatterpolargl": [
           {
            "marker": {
             "colorbar": {
              "outlinewidth": 0,
              "ticks": ""
             }
            },
            "type": "scatterpolargl"
           }
          ],
          "scatterternary": [
           {
            "marker": {
             "colorbar": {
              "outlinewidth": 0,
              "ticks": ""
             }
            },
            "type": "scatterternary"
           }
          ],
          "surface": [
           {
            "colorbar": {
             "outlinewidth": 0,
             "ticks": ""
            },
            "colorscale": [
             [
              0,
              "#0d0887"
             ],
             [
              0.1111111111111111,
              "#46039f"
             ],
             [
              0.2222222222222222,
              "#7201a8"
             ],
             [
              0.3333333333333333,
              "#9c179e"
             ],
             [
              0.4444444444444444,
              "#bd3786"
             ],
             [
              0.5555555555555556,
              "#d8576b"
             ],
             [
              0.6666666666666666,
              "#ed7953"
             ],
             [
              0.7777777777777778,
              "#fb9f3a"
             ],
             [
              0.8888888888888888,
              "#fdca26"
             ],
             [
              1,
              "#f0f921"
             ]
            ],
            "type": "surface"
           }
          ],
          "table": [
           {
            "cells": {
             "fill": {
              "color": "#EBF0F8"
             },
             "line": {
              "color": "white"
             }
            },
            "header": {
             "fill": {
              "color": "#C8D4E3"
             },
             "line": {
              "color": "white"
             }
            },
            "type": "table"
           }
          ]
         },
         "layout": {
          "annotationdefaults": {
           "arrowcolor": "#2a3f5f",
           "arrowhead": 0,
           "arrowwidth": 1
          },
          "autotypenumbers": "strict",
          "coloraxis": {
           "colorbar": {
            "outlinewidth": 0,
            "ticks": ""
           }
          },
          "colorscale": {
           "diverging": [
            [
             0,
             "#8e0152"
            ],
            [
             0.1,
             "#c51b7d"
            ],
            [
             0.2,
             "#de77ae"
            ],
            [
             0.3,
             "#f1b6da"
            ],
            [
             0.4,
             "#fde0ef"
            ],
            [
             0.5,
             "#f7f7f7"
            ],
            [
             0.6,
             "#e6f5d0"
            ],
            [
             0.7,
             "#b8e186"
            ],
            [
             0.8,
             "#7fbc41"
            ],
            [
             0.9,
             "#4d9221"
            ],
            [
             1,
             "#276419"
            ]
           ],
           "sequential": [
            [
             0,
             "#0d0887"
            ],
            [
             0.1111111111111111,
             "#46039f"
            ],
            [
             0.2222222222222222,
             "#7201a8"
            ],
            [
             0.3333333333333333,
             "#9c179e"
            ],
            [
             0.4444444444444444,
             "#bd3786"
            ],
            [
             0.5555555555555556,
             "#d8576b"
            ],
            [
             0.6666666666666666,
             "#ed7953"
            ],
            [
             0.7777777777777778,
             "#fb9f3a"
            ],
            [
             0.8888888888888888,
             "#fdca26"
            ],
            [
             1,
             "#f0f921"
            ]
           ],
           "sequentialminus": [
            [
             0,
             "#0d0887"
            ],
            [
             0.1111111111111111,
             "#46039f"
            ],
            [
             0.2222222222222222,
             "#7201a8"
            ],
            [
             0.3333333333333333,
             "#9c179e"
            ],
            [
             0.4444444444444444,
             "#bd3786"
            ],
            [
             0.5555555555555556,
             "#d8576b"
            ],
            [
             0.6666666666666666,
             "#ed7953"
            ],
            [
             0.7777777777777778,
             "#fb9f3a"
            ],
            [
             0.8888888888888888,
             "#fdca26"
            ],
            [
             1,
             "#f0f921"
            ]
           ]
          },
          "colorway": [
           "#636efa",
           "#EF553B",
           "#00cc96",
           "#ab63fa",
           "#FFA15A",
           "#19d3f3",
           "#FF6692",
           "#B6E880",
           "#FF97FF",
           "#FECB52"
          ],
          "font": {
           "color": "#2a3f5f"
          },
          "geo": {
           "bgcolor": "white",
           "lakecolor": "white",
           "landcolor": "#E5ECF6",
           "showlakes": true,
           "showland": true,
           "subunitcolor": "white"
          },
          "hoverlabel": {
           "align": "left"
          },
          "hovermode": "closest",
          "mapbox": {
           "style": "light"
          },
          "paper_bgcolor": "white",
          "plot_bgcolor": "#E5ECF6",
          "polar": {
           "angularaxis": {
            "gridcolor": "white",
            "linecolor": "white",
            "ticks": ""
           },
           "bgcolor": "#E5ECF6",
           "radialaxis": {
            "gridcolor": "white",
            "linecolor": "white",
            "ticks": ""
           }
          },
          "scene": {
           "xaxis": {
            "backgroundcolor": "#E5ECF6",
            "gridcolor": "white",
            "gridwidth": 2,
            "linecolor": "white",
            "showbackground": true,
            "ticks": "",
            "zerolinecolor": "white"
           },
           "yaxis": {
            "backgroundcolor": "#E5ECF6",
            "gridcolor": "white",
            "gridwidth": 2,
            "linecolor": "white",
            "showbackground": true,
            "ticks": "",
            "zerolinecolor": "white"
           },
           "zaxis": {
            "backgroundcolor": "#E5ECF6",
            "gridcolor": "white",
            "gridwidth": 2,
            "linecolor": "white",
            "showbackground": true,
            "ticks": "",
            "zerolinecolor": "white"
           }
          },
          "shapedefaults": {
           "line": {
            "color": "#2a3f5f"
           }
          },
          "ternary": {
           "aaxis": {
            "gridcolor": "white",
            "linecolor": "white",
            "ticks": ""
           },
           "baxis": {
            "gridcolor": "white",
            "linecolor": "white",
            "ticks": ""
           },
           "bgcolor": "#E5ECF6",
           "caxis": {
            "gridcolor": "white",
            "linecolor": "white",
            "ticks": ""
           }
          },
          "title": {
           "x": 0.05
          },
          "xaxis": {
           "automargin": true,
           "gridcolor": "white",
           "linecolor": "white",
           "ticks": "",
           "title": {
            "standoff": 15
           },
           "zerolinecolor": "white",
           "zerolinewidth": 2
          },
          "yaxis": {
           "automargin": true,
           "gridcolor": "white",
           "linecolor": "white",
           "ticks": "",
           "title": {
            "standoff": 15
           },
           "zerolinecolor": "white",
           "zerolinewidth": 2
          }
         }
        },
        "title": {
         "text": "3D Chroma Vector Store Visualization"
        },
        "width": 800,
        "xaxis": {
         "autorange": true,
         "range": [
          -148.18223917968453,
          152.25266917968452
         ],
         "type": "linear"
        },
        "yaxis": {
         "autorange": true,
         "range": [
          -142.7716895225045,
          145.4294895225045
         ],
         "type": "linear"
        }
       }
      },
      "image/png": "[encoded data removed]",
      "text/html": [
       "<div>                            <div id=\"db0f4cea-99de-4c52-8181-e774e0624a47\" class=\"plotly-graph-div\" style=\"height:600px; width:800px;\"></div>            <script type=\"text/javascript\">                require([\"plotly\"], function(Plotly) {                    window.PLOTLYENV=window.PLOTLYENV || {};                                    if (document.getElementById(\"db0f4cea-99de-4c52-8181-e774e0624a47\")) {                    Plotly.newPlot(                        \"db0f4cea-99de-4c52-8181-e774e0624a47\",                        [{\"hoverinfo\":\"text\",\"marker\":{\"color\":[[0.12156862745098039,0.4666666666666667,0.7058823529411765,1.0],[0.12156862745098039,0.4666666666666667,0.7058823529411765,1.0],[0.12156862745098039,0.4666666666666667,0.7058823529411765,1.0],[0.12156862745098039,0.4666666666666667,0.7058823529411765,1.0],[0.12156862745098039,0.4666666666666667,0.7058823529411765,1.0],[0.12156862745098039,0.4666666666666667,0.7058823529411765,1.0],[0.12156862745098039,0.4666666666666667,0.7058823529411765,1.0],[0.12156862745098039,0.4666666666666667,0.7058823529411765,1.0],[0.12156862745098039,0.4666666666666667,0.7058823529411765,1.0],[0.12156862745098039,0.4666666666666667,0.7058823529411765,1.0],[0.12156862745098039,0.4666666666666667,0.7058823529411765,1.0],[0.12156862745098039,0.4666666666666667,0.7058823529411765,1.0],[0.12156862745098039,0.4666666666666667,0.7058823529411765,1.0],[0.12156862745098039,0.4666666666666667,0.7058823529411765,1.0],[0.12156862745098039,0.4666666666666667,0.7058823529411765,1.0],[0.12156862745098039,0.4666666666666667,0.7058823529411765,1.0],[0.12156862745098039,0.4666666666666667,0.7058823529411765,1.0],[0.12156862745098039,0.4666666666666667,0.7058823529411765,1.0],[0.12156862745098039,0.4666666666666667,0.7058823529411765,1.0],[0.12156862745098039,0.4666666666666667,0.7058823529411765,1.0],[0.12156862745098039,0.4666666666666667,0.7058823529411765,1.0],[0.12156862745098039,0.4666666666666667,0.7058823529411765,1.0],[0.12156862745098039,0.4666666666666667,0.7058823529411765,1.0],[0.12156862745098039,0.4666666666666667,0.7058823529411765,1.0],[0.12156862745098039,0.4666666666666667,0.7058823529411765,1.0],[0.12156862745098039,0.4666666666666667,0.7058823529411765,1.0],[0.12156862745098039,0.4666666666666667,0.7058823529411765,1.0],[0.12156862745098039,0.4666666666666667,0.7058823529411765,1.0],[0.12156862745098039,0.4666666666666667,0.7058823529411765,1.0],[0.12156862745098039,0.4666666666666667,0.7058823529411765,1.0],[0.12156862745098039,0.4666666666666667,0.7058823529411765,1.0],[0.12156862745098039,0.4666666666666667,0.7058823529411765,1.0],[0.12156862745098039,0.4666666666666667,0.7058823529411765,1.0],[0.12156862745098039,0.4666666666666667,0.7058823529411765,1.0],[0.12156862745098039,0.4666666666666667,0.7058823529411765,1.0],[0.12156862745098039,0.4666666666666667,0.7058823529411765,1.0],[0.12156862745098039,0.4666666666666667,0.7058823529411765,1.0],[0.12156862745098039,0.4666666666666667,0.7058823529411765,1.0],[0.12156862745098039,0.4666666666666667,0.7058823529411765,1.0],[0.12156862745098039,0.4666666666666667,0.7058823529411765,1.0],[0.12156862745098039,0.4666666666666667,0.7058823529411765,1.0],[0.12156862745098039,0.4666666666666667,0.7058823529411765,1.0],[0.12156862745098039,0.4666666666666667,0.7058823529411765,1.0],[0.12156862745098039,0.4666666666666667,0.7058823529411765,1.0],[0.12156862745098039,0.4666666666666667,0.7058823529411765,1.0],[0.12156862745098039,0.4666666666666667,0.7058823529411765,1.0]],\"opacity\":0.8,\"size\":5},\"mode\":\"markers\",\"text\":[\"Type: Section 1: Resuscitative Problems and Techniques Advanced Airway Support\\u003cbr\\u003eText: Control of the airway is the single most important task for emergency resuscitation.\\n\\n**INITIAL APPR...\",\"Type: Section 1: Resuscitative Problems and Techniques Advanced Airway Support\\u003cbr\\u003eText: 1. Prepare equipment, personnel, and drugs before attempting intubation. Assess airway difficulty an...\",\"Type: Section 1: Resuscitative Problems and Techniques Advanced Airway Support\\u003cbr\\u003eText: Immediate complications include unrecognized esophageal intubation or mainstem bronchus intubation.\\n...\",\"Type: Section 1: Resuscitative Problems and Techniques Advanced Airway Support\\u003cbr\\u003eText: 1. Prepare equipment, medication, and personnel before initiation of RSI. Check equipment function. ...\",\"Type: Section 1: Resuscitative Problems and Techniques Advanced Airway Support\\u003cbr\\u003eText: Videolaryngoscopy is an excellent option for airway rescue or as a primary intubation technique, dem...\",\"Type: Section 1: Resuscitative Problems and Techniques Advanced Airway Support\\u003cbr\\u003eText: Bilevel positive airway pressure (BiPAP) uses different levels of pressure during inspiration and ex...\",\"Type: Section 1: Resuscitative Problems and Techniques Advanced Airway Support\\u003cbr\\u003eText: Emergency Department Care and Disposition  \\n1. Discontinue precipitating drugs (alcohol, tobacco, or...\",\"Type: Section 1: Resuscitative Problems and Techniques Advanced Airway Support\\u003cbr\\u003eText: Emergency Department Care and Disposition  \\nSinus bradycardia usually does not require specific trea...\",\"Type: Section 1: Resuscitative Problems and Techniques Advanced Airway Support\\u003cbr\\u003eText: Emergency Department Care and Disposition  \\nDiagnose and treat the underlying condition.  \\nSupravent...\",\"Type: Section 1: Resuscitative Problems and Techniques Advanced Airway Support\\u003cbr\\u003eText: Emergency Department Care and Disposition:\\n1. Perform synchronized cardioversion in any unstable pat...\",\"Type: Section 1: Resuscitative Problems and Techniques Advanced Airway Support\\u003cbr\\u003eText: Atrial flutter originates from a small area within the atria. ECG characteristics include a regular ...\",\"Type: Section 1: Resuscitative Problems and Techniques Advanced Airway Support\\u003cbr\\u003eText: Emergency Department Care and Disposition:\\n1. Treat unstable patients with synchronized cardioversio...\",\"Type: Section 1: Resuscitative Problems and Techniques Advanced Airway Support\\u003cbr\\u003eText: Emergency Department Care and Disposition:\\n1. Treat the underlying disorder.\\n2. Specific antiarrhyth...\",\"Type: Section 1: Resuscitative Problems and Techniques Advanced Airway Support\\u003cbr\\u003eText: Emergency Department Care and Disposition:\\n1. Stable patients require no treatment.\\n2. Patients with...\",\"Type: Section 1: Resuscitative Problems and Techniques Advanced Airway Support\\u003cbr\\u003eText: Emergency Department Care and Disposition for VT:\\n1. Defibrillate pulseless VT with unsynchronized c...\",\"Type: Section 1: Resuscitative Problems and Techniques Advanced Airway Support\\u003cbr\\u003eText: Emergency Department Care and Disposition  \\n1. Perform immediate electrical defibrillation (unsynchr...\",\"Type: Section 1: Resuscitative Problems and Techniques Advanced Airway Support\\u003cbr\\u003eText: Emergency Department Care and Disposition  \\n1. Specific treatment is not necessary unless slow ventr...\",\"Type: Section 1: Resuscitative Problems and Techniques Advanced Airway Support\\u003cbr\\u003eText: When third-degree AV block occurs at the infranodal level, the ventricles are driven by a ventricula...\",\"Type: Section 1: Resuscitative Problems and Techniques Advanced Airway Support\\u003cbr\\u003eText: Preterminal Rhythms:\\nPulseless Electrical Activity:\\nPulseless electrical activity is the presence of...\",\"Type: Section 1: Resuscitative Problems and Techniques Advanced Airway Support\\u003cbr\\u003eText: Children primarily develop cardiac arrest secondary to hypoxia from respiratory arrest or shock synd...\",\"Type: Section 1: Resuscitative Problems and Techniques Advanced Airway Support\\u003cbr\\u003eText: Directions for use: (1) measure patient length with centimeter tape; (2) using measured length in ce...\",\"Type: Section 1: Resuscitative Problems and Techniques Advanced Airway Support\\u003cbr\\u003eText: Begin fluid resuscitation with rapid infusion of isotonic saline, 20 mL\\u002fkilogram IV bolus. Repeat as...\",\"Type: Section 1: Resuscitative Problems and Techniques Advanced Airway Support\\u003cbr\\u003eText: TABLE 3-4 Treatment of Pediatric Pulseless Arrest\\n1. Initiate BLS; CPR; administer oxygen, attach mo...\",\"Type: Section 1: Resuscitative Problems and Techniques Advanced Airway Support\\u003cbr\\u003eText: Ventricular tachycardia:\\n1. Perform synchronized cardioversion, 0.5-1 J\\u002fkilogram. Sedate if possible...\",\"Type: Section 1: Resuscitative Problems and Techniques Advanced Airway Support\\u003cbr\\u003eText: Neonatal Resuscitation:\\n1. The first step in neonatal resuscitation is to maintain body temperature....\",\"Type: Section 1: Resuscitative Problems and Techniques Advanced Airway Support\\u003cbr\\u003eText: After intubation and assisted ventilation for 30 seconds, begin cardiac compressions at 90 chest com...\",\"Type: Section 1: Resuscitative Problems and Techniques Advanced Airway Support\\u003cbr\\u003eText: Volume loss and dehydration can be inferred by the patient history. Historical features include: vom...\",\"Type: Section 1: Resuscitative Problems and Techniques Advanced Airway Support\\u003cbr\\u003eText: Hyponatremia ([Na + ] \\u003c 135 mEq\\u002fL)  \\nClinical Features  \\nThe clinical manifestations of hyponatremia...\",\"Type: Section 1: Resuscitative Problems and Techniques Advanced Airway Support\\u003cbr\\u003eText: Diagnosis and Differential  \\nHypernatremia is most commonly caused by a decrease in total body water...\",\"Type: Section 1: Resuscitative Problems and Techniques Advanced Airway Support\\u003cbr\\u003eText: **Hypokalemia ([K+] \\u003c 3.5 mEq\\u002fL)**  \\nClinical Features: The signs and symptoms of hypokalemia usuall...\",\"Type: Section 1: Resuscitative Problems and Techniques Advanced Airway Support\\u003cbr\\u003eText: TABLE 4-4 Causes of Hyperkalemia\\n- Factitious: Laboratory error, Hemolysis and leukocytosis\\n- Increa...\",\"Type: Section 1: Resuscitative Problems and Techniques Advanced Airway Support\\u003cbr\\u003eText: Diagnosis and Differential: Causes include shock, sepsis, fat embolism, renal failure, pancreatitis,...\",\"Type: Section 1: Resuscitative Problems and Techniques Advanced Airway Support\\u003cbr\\u003eText: Hypomagnesemia  \\nClinical Findings  \\n[Mg2+], [K+], and [PO4−] move together intra- and extracellular...\",\"Type: Section 1: Resuscitative Problems and Techniques Advanced Airway Support\\u003cbr\\u003eText: Emergency Department Care and Disposition  \\n1. In many patients, stopping [Mg2+] intake is sufficien...\",\"Type: Section 1: Resuscitative Problems and Techniques Advanced Airway Support\\u003cbr\\u003eText: Stepwise Method of Acid-Base Clinical Problem Solving:\\n- Use the patient’s pre-illness values as a b...\",\"Type: Section 1: Resuscitative Problems and Techniques Advanced Airway Support\\u003cbr\\u003eText: Metabolic Acidosis:\\n- Metabolic acidosis should be divided into an increased and normal AG acidosis....\",\"Type: Section 1: Resuscitative Problems and Techniques Advanced Airway Support\\u003cbr\\u003eText: Indications for bicarbonate therapy are listed in Table 4-7. Give 0.5 mEq\\u002fkilogram bicarbonate for e...\",\"Type: Section 1: Resuscitative Problems and Techniques Advanced Airway Support\\u003cbr\\u003eText: Emergency Department Care and Disposition for Metabolic Alkalosis:\\n1. Administer NS to treat dehydra...\",\"Type: Section 1: Resuscitative Problems and Techniques Advanced Airway Support\\u003cbr\\u003eText: Factors that influence the clinical presentation of a patient in shock include the etiology, duratio...\",\"Type: Section 1: Resuscitative Problems and Techniques Advanced Airway Support\\u003cbr\\u003eText: The respiratory rate is frequently elevated early in shock. Increased minute ventilation, increased ...\",\"Type: Section 1: Resuscitative Problems and Techniques Advanced Airway Support\\u003cbr\\u003eText: The clinical presentation and presumed etiology of shock will dictate the diagnostic studies, monito...\",\"Type: Section 1: Resuscitative Problems and Techniques Advanced Airway Support\\u003cbr\\u003eText: Supplemental high-flow oxygen. If mechanical ventilation is used, neuromuscular blocking agents shou...\",\"Type: Section 1: Resuscitative Problems and Techniques Advanced Airway Support\\u003cbr\\u003eText: Blood remains the ideal resuscitative fluid. When possible, use fully cross-matched PRBCs. If the cl...\",\"Type: Section 1: Resuscitative Problems and Techniques Advanced Airway Support\\u003cbr\\u003eText: Early surgical or medical consultation for admission or transfer is indicated.\\n\\nlocalized urticaria ...\",\"Type: Section 1: Resuscitative Problems and Techniques Advanced Airway Support\\u003cbr\\u003eText: Resuscitation must begin with airway, breathing, and circulation. Patients with confirmed or suspect...\",\"Type: Section 1: Resuscitative Problems and Techniques Advanced Airway Support\\u003cbr\\u003eText: C1 esterase inhibitor replacement is the primary treatment for patients with unstable or refractory ...\"],\"x\":[-9.346824,-131.88487,39.33585,-7.924113,41.47446,-83.82476,-82.38613,-43.923767,76.81502,110.03323,112.3559,84.02044,36.171513,-109.109924,66.66926,2.9555595,-51.52938,48.681637,59.55724,34.769806,70.45803,-49.431007,-28.869478,36.288563,2.5420008,-42.400806,-82.29994,-35.81849,-86.96344,-21.472118,-54.48173,72.602875,-12.412892,-31.57695,135.9553,-30.37244,17.020407,-9.79364,43.348225,-69.566185,8.275721,-118.24704,31.730528,121.022224,114.423004,10.1967535],\"y\":[-106.40563,-71.9744,-114.06141,-93.180626,-55.730877,27.51455,-72.73559,25.470062,-26.411943,1.3873004,-77.8285,18.351011,-26.950315,54.815624,-46.11734,3.108942,-38.544823,-72.13185,24.557165,69.36406,66.71609,-105.55403,89.792366,-126.67506,30.14479,68.2716,-23.562588,-31.52407,-11.745322,-35.888958,18.937735,-2.7130916,21.570555,-19.16159,1.5667713,86.850975,9.6303005,58.368267,89.4335,95.41731,129.33286,-2.8600183,94.37145,-80.03321,63.510956,-46.665096],\"type\":\"scatter\"}],                        {\"template\":{\"data\":{\"histogram2dcontour\":[{\"type\":\"histogram2dcontour\",\"colorbar\":{\"outlinewidth\":0,\"ticks\":\"\"},\"colorscale\":[[0.0,\"#0d0887\"],[0.1111111111111111,\"#46039f\"],[0.2222222222222222,\"#7201a8\"],[0.3333333333333333,\"#9c179e\"],[0.4444444444444444,\"#bd3786\"],[0.5555555555555556,\"#d8576b\"],[0.6666666666666666,\"#ed7953\"],[0.7777777777777778,\"#fb9f3a\"],[0.8888888888888888,\"#fdca26\"],[1.0,\"#f0f921\"]]}],\"choropleth\":[{\"type\":\"choropleth\",\"colorbar\":{\"outlinewidth\":0,\"ticks\":\"\"}}],\"histogram2d\":[{\"type\":\"histogram2d\",\"colorbar\":{\"outlinewidth\":0,\"ticks\":\"\"},\"colorscale\":[[0.0,\"#0d0887\"],[0.1111111111111111,\"#46039f\"],[0.2222222222222222,\"#7201a8\"],[0.3333333333333333,\"#9c179e\"],[0.4444444444444444,\"#bd3786\"],[0.5555555555555556,\"#d8576b\"],[0.6666666666666666,\"#ed7953\"],[0.7777777777777778,\"#fb9f3a\"],[0.8888888888888888,\"#fdca26\"],[1.0,\"#f0f921\"]]}],\"heatmap\":[{\"type\":\"heatmap\",\"colorbar\":{\"outlinewidth\":0,\"ticks\":\"\"},\"colorscale\":[[0.0,\"#0d0887\"],[0.1111111111111111,\"#46039f\"],[0.2222222222222222,\"#7201a8\"],[0.3333333333333333,\"#9c179e\"],[0.4444444444444444,\"#bd3786\"],[0.5555555555555556,\"#d8576b\"],[0.6666666666666666,\"#ed7953\"],[0.7777777777777778,\"#fb9f3a\"],[0.8888888888888888,\"#fdca26\"],[1.0,\"#f0f921\"]]}],\"heatmapgl\":[{\"type\":\"heatmapgl\",\"colorbar\":{\"outlinewidth\":0,\"ticks\":\"\"},\"colorscale\":[[0.0,\"#0d0887\"],[0.1111111111111111,\"#46039f\"],[0.2222222222222222,\"#7201a8\"],[0.3333333333333333,\"#9c179e\"],[0.4444444444444444,\"#bd3786\"],[0.5555555555555556,\"#d8576b\"],[0.6666666666666666,\"#ed7953\"],[0.7777777777777778,\"#fb9f3a\"],[0.8888888888888888,\"#fdca26\"],[1.0,\"#f0f921\"]]}],\"contourcarpet\":[{\"type\":\"contourcarpet\",\"colorbar\":{\"outlinewidth\":0,\"ticks\":\"\"}}],\"contour\":[{\"type\":\"contour\",\"colorbar\":{\"outlinewidth\":0,\"ticks\":\"\"},\"colorscale\":[[0.0,\"#0d0887\"],[0.1111111111111111,\"#46039f\"],[0.2222222222222222,\"#7201a8\"],[0.3333333333333333,\"#9c179e\"],[0.4444444444444444,\"#bd3786\"],[0.5555555555555556,\"#d8576b\"],[0.6666666666666666,\"#ed7953\"],[0.7777777777777778,\"#fb9f3a\"],[0.8888888888888888,\"#fdca26\"],[1.0,\"#f0f921\"]]}],\"surface\":[{\"type\":\"surface\",\"colorbar\":{\"outlinewidth\":0,\"ticks\":\"\"},\"colorscale\":[[0.0,\"#0d0887\"],[0.1111111111111111,\"#46039f\"],[0.2222222222222222,\"#7201a8\"],[0.3333333333333333,\"#9c179e\"],[0.4444444444444444,\"#bd3786\"],[0.5555555555555556,\"#d8576b\"],[0.6666666666666666,\"#ed7953\"],[0.7777777777777778,\"#fb9f3a\"],[0.8888888888888888,\"#fdca26\"],[1.0,\"#f0f921\"]]}],\"mesh3d\":[{\"type\":\"mesh3d\",\"colorbar\":{\"outlinewidth\":0,\"ticks\":\"\"}}],\"scatter\":[{\"fillpattern\":{\"fillmode\":\"overlay\",\"size\":10,\"solidity\":0.2},\"type\":\"scatter\"}],\"parcoords\":[{\"type\":\"parcoords\",\"line\":{\"colorbar\":{\"outlinewidth\":0,\"ticks\":\"\"}}}],\"scatterpolargl\":[{\"type\":\"scatterpolargl\",\"marker\":{\"colorbar\":{\"outlinewidth\":0,\"ticks\":\"\"}}}],\"bar\":[{\"error_x\":{\"color\":\"#2a3f5f\"},\"error_y\":{\"color\":\"#2a3f5f\"},\"marker\":{\"line\":{\"color\":\"#E5ECF6\",\"width\":0.5},\"pattern\":{\"fillmode\":\"overlay\",\"size\":10,\"solidity\":0.2}},\"type\":\"bar\"}],\"scattergeo\":[{\"type\":\"scattergeo\",\"marker\":{\"colorbar\":{\"outlinewidth\":0,\"ticks\":\"\"}}}],\"scatterpolar\":[{\"type\":\"scatterpolar\",\"marker\":{\"colorbar\":{\"outlinewidth\":0,\"ticks\":\"\"}}}],\"histogram\":[{\"marker\":{\"pattern\":{\"fillmode\":\"overlay\",\"size\":10,\"solidity\":0.2}},\"type\":\"histogram\"}],\"scattergl\":[{\"type\":\"scattergl\",\"marker\":{\"colorbar\":{\"outlinewidth\":0,\"ticks\":\"\"}}}],\"scatter3d\":[{\"type\":\"scatter3d\",\"line\":{\"colorbar\":{\"outlinewidth\":0,\"ticks\":\"\"}},\"marker\":{\"colorbar\":{\"outlinewidth\":0,\"ticks\":\"\"}}}],\"scattermapbox\":[{\"type\":\"scattermapbox\",\"marker\":{\"colorbar\":{\"outlinewidth\":0,\"ticks\":\"\"}}}],\"scatterternary\":[{\"type\":\"scatterternary\",\"marker\":{\"colorbar\":{\"outlinewidth\":0,\"ticks\":\"\"}}}],\"scattercarpet\":[{\"type\":\"scattercarpet\",\"marker\":{\"colorbar\":{\"outlinewidth\":0,\"ticks\":\"\"}}}],\"carpet\":[{\"aaxis\":{\"endlinecolor\":\"#2a3f5f\",\"gridcolor\":\"white\",\"linecolor\":\"white\",\"minorgridcolor\":\"white\",\"startlinecolor\":\"#2a3f5f\"},\"baxis\":{\"endlinecolor\":\"#2a3f5f\",\"gridcolor\":\"white\",\"linecolor\":\"white\",\"minorgridcolor\":\"white\",\"startlinecolor\":\"#2a3f5f\"},\"type\":\"carpet\"}],\"table\":[{\"cells\":{\"fill\":{\"color\":\"#EBF0F8\"},\"line\":{\"color\":\"white\"}},\"header\":{\"fill\":{\"color\":\"#C8D4E3\"},\"line\":{\"color\":\"white\"}},\"type\":\"table\"}],\"barpolar\":[{\"marker\":{\"line\":{\"color\":\"#E5ECF6\",\"width\":0.5},\"pattern\":{\"fillmode\":\"overlay\",\"size\":10,\"solidity\":0.2}},\"type\":\"barpolar\"}],\"pie\":[{\"automargin\":true,\"type\":\"pie\"}]},\"layout\":{\"autotypenumbers\":\"strict\",\"colorway\":[\"#636efa\",\"#EF553B\",\"#00cc96\",\"#ab63fa\",\"#FFA15A\",\"#19d3f3\",\"#FF6692\",\"#B6E880\",\"#FF97FF\",\"#FECB52\"],\"font\":{\"color\":\"#2a3f5f\"},\"hovermode\":\"closest\",\"hoverlabel\":{\"align\":\"left\"},\"paper_bgcolor\":\"white\",\"plot_bgcolor\":\"#E5ECF6\",\"polar\":{\"bgcolor\":\"#E5ECF6\",\"angularaxis\":{\"gridcolor\":\"white\",\"linecolor\":\"white\",\"ticks\":\"\"},\"radialaxis\":{\"gridcolor\":\"white\",\"linecolor\":\"white\",\"ticks\":\"\"}},\"ternary\":{\"bgcolor\":\"#E5ECF6\",\"aaxis\":{\"gridcolor\":\"white\",\"linecolor\":\"white\",\"ticks\":\"\"},\"baxis\":{\"gridcolor\":\"white\",\"linecolor\":\"white\",\"ticks\":\"\"},\"caxis\":{\"gridcolor\":\"white\",\"linecolor\":\"white\",\"ticks\":\"\"}},\"coloraxis\":{\"colorbar\":{\"outlinewidth\":0,\"ticks\":\"\"}},\"colorscale\":{\"sequential\":[[0.0,\"#0d0887\"],[0.1111111111111111,\"#46039f\"],[0.2222222222222222,\"#7201a8\"],[0.3333333333333333,\"#9c179e\"],[0.4444444444444444,\"#bd3786\"],[0.5555555555555556,\"#d8576b\"],[0.6666666666666666,\"#ed7953\"],[0.7777777777777778,\"#fb9f3a\"],[0.8888888888888888,\"#fdca26\"],[1.0,\"#f0f921\"]],\"sequentialminus\":[[0.0,\"#0d0887\"],[0.1111111111111111,\"#46039f\"],[0.2222222222222222,\"#7201a8\"],[0.3333333333333333,\"#9c179e\"],[0.4444444444444444,\"#bd3786\"],[0.5555555555555556,\"#d8576b\"],[0.6666666666666666,\"#ed7953\"],[0.7777777777777778,\"#fb9f3a\"],[0.8888888888888888,\"#fdca26\"],[1.0,\"#f0f921\"]],\"diverging\":[[0,\"#8e0152\"],[0.1,\"#c51b7d\"],[0.2,\"#de77ae\"],[0.3,\"#f1b6da\"],[0.4,\"#fde0ef\"],[0.5,\"#f7f7f7\"],[0.6,\"#e6f5d0\"],[0.7,\"#b8e186\"],[0.8,\"#7fbc41\"],[0.9,\"#4d9221\"],[1,\"#276419\"]]},\"xaxis\":{\"gridcolor\":\"white\",\"linecolor\":\"white\",\"ticks\":\"\",\"title\":{\"standoff\":15},\"zerolinecolor\":\"white\",\"automargin\":true,\"zerolinewidth\":2},\"yaxis\":{\"gridcolor\":\"white\",\"linecolor\":\"white\",\"ticks\":\"\",\"title\":{\"standoff\":15},\"zerolinecolor\":\"white\",\"automargin\":true,\"zerolinewidth\":2},\"scene\":{\"xaxis\":{\"backgroundcolor\":\"#E5ECF6\",\"gridcolor\":\"white\",\"linecolor\":\"white\",\"showbackground\":true,\"ticks\":\"\",\"zerolinecolor\":\"white\",\"gridwidth\":2},\"yaxis\":{\"backgroundcolor\":\"#E5ECF6\",\"gridcolor\":\"white\",\"linecolor\":\"white\",\"showbackground\":true,\"ticks\":\"\",\"zerolinecolor\":\"white\",\"gridwidth\":2},\"zaxis\":{\"backgroundcolor\":\"#E5ECF6\",\"gridcolor\":\"white\",\"linecolor\":\"white\",\"showbackground\":true,\"ticks\":\"\",\"zerolinecolor\":\"white\",\"gridwidth\":2}},\"shapedefaults\":{\"line\":{\"color\":\"#2a3f5f\"}},\"annotationdefaults\":{\"arrowcolor\":\"#2a3f5f\",\"arrowhead\":0,\"arrowwidth\":1},\"geo\":{\"bgcolor\":\"white\",\"landcolor\":\"#E5ECF6\",\"subunitcolor\":\"white\",\"showland\":true,\"showlakes\":true,\"lakecolor\":\"white\"},\"title\":{\"x\":0.05},\"mapbox\":{\"style\":\"light\"}}},\"margin\":{\"r\":20,\"b\":10,\"l\":10,\"t\":40},\"title\":{\"text\":\"3D Chroma Vector Store Visualization\"},\"scene\":{\"xaxis\":{\"title\":{\"text\":\"x\"}},\"yaxis\":{\"title\":{\"text\":\"y\"}}},\"width\":800,\"height\":600},                        {\"responsive\": true}                    ).then(function(){\n",
       "                            \n",
       "var gd = document.getElementById('db0f4cea-99de-4c52-8181-e774e0624a47');\n",
       "var x = new MutationObserver(function (mutations, observer) {{\n",
       "        var display = window.getComputedStyle(gd).display;\n",
       "        if (!display || display === 'none') {{\n",
       "            console.log([gd, 'removed!']);\n",
       "            Plotly.purge(gd);\n",
       "            observer.disconnect();\n",
       "        }}\n",
       "}});\n",
       "\n",
       "// Listen for the removal of the full notebook cells\n",
       "var notebookContainer = gd.closest('#notebook-container');\n",
       "if (notebookContainer) {{\n",
       "    x.observe(notebookContainer, {childList: true});\n",
       "}}\n",
       "\n",
       "// Listen for the clearing of the current output cell\n",
       "var outputEl = gd.closest('.output');\n",
       "if (outputEl) {{\n",
       "    x.observe(outputEl, {childList: true});\n",
       "}}\n",
       "\n",
       "                        })                };                });            </script>        </div>"
      ]
     },
     "metadata": {},
     "output_type": "display_data"
    }
   ],
   "source": [
    "from sklearn.manifold import TSNE\n",
    "\n",
    "tsne = TSNE(n_components=3, random_state=42,)\n",
    "reduced_vectors = tsne.fit_transform(vectors)\n",
    "\n",
    "# Create the 2D scatter plot\n",
    "fig = go.Figure(data=[go.Scatter(\n",
    "    x=reduced_vectors[:, 0],\n",
    "    y=reduced_vectors[:, 1],\n",
    "    mode='markers',\n",
    "    marker=dict(size=5, color=colors, opacity=0.8),\n",
    "    text=[f\"Type: {t}<br>Text: {d[:100]}...\" for t, d in zip(doc_types, documents)],\n",
    "    hoverinfo='text'\n",
    ")])\n",
    "\n",
    "fig.update_layout(\n",
    "    title='3D Chroma Vector Store Visualization',\n",
    "    scene=dict(xaxis_title='x',yaxis_title='y'),\n",
    "    width=800,\n",
    "    height=600,\n",
    "    margin=dict(r=20, b=10, l=10, t=40)\n",
    ")\n",
    "\n",
    "fig.show()"
   ]
  },
  {
   "cell_type": "code",
   "execution_count": 42,
   "id": "4b14d745-5ca1-4db1-a4d0-760b49d6b253",
   "metadata": {
    "tags": []
   },
   "outputs": [
    {
     "data": {
      "application/vnd.plotly.v1+json": {
       "config": {
        "plotlyServerURL": "https://plot.ly"
       },
       "data": [
        {
         "hoverinfo": "text",
         "marker": {
          "color": [
           "rgba(31, 119, 180, 1.0)",
           "rgba(31, 119, 180, 1.0)",
           "rgba(31, 119, 180, 1.0)",
           "rgba(31, 119, 180, 1.0)",
           "rgba(31, 119, 180, 1.0)",
           "rgba(31, 119, 180, 1.0)",
           "rgba(31, 119, 180, 1.0)",
           "rgba(31, 119, 180, 1.0)",
           "rgba(31, 119, 180, 1.0)",
           "rgba(31, 119, 180, 1.0)",
           "rgba(31, 119, 180, 1.0)",
           "rgba(31, 119, 180, 1.0)",
           "rgba(31, 119, 180, 1.0)",
           "rgba(31, 119, 180, 1.0)",
           "rgba(31, 119, 180, 1.0)",
           "rgba(31, 119, 180, 1.0)",
           "rgba(31, 119, 180, 1.0)",
           "rgba(31, 119, 180, 1.0)",
           "rgba(31, 119, 180, 1.0)",
           "rgba(31, 119, 180, 1.0)",
           "rgba(31, 119, 180, 1.0)",
           "rgba(31, 119, 180, 1.0)",
           "rgba(31, 119, 180, 1.0)",
           "rgba(31, 119, 180, 1.0)",
           "rgba(31, 119, 180, 1.0)",
           "rgba(31, 119, 180, 1.0)",
           "rgba(31, 119, 180, 1.0)",
           "rgba(31, 119, 180, 1.0)",
           "rgba(31, 119, 180, 1.0)",
           "rgba(31, 119, 180, 1.0)",
           "rgba(31, 119, 180, 1.0)",
           "rgba(31, 119, 180, 1.0)",
           "rgba(31, 119, 180, 1.0)",
           "rgba(31, 119, 180, 1.0)",
           "rgba(31, 119, 180, 1.0)",
           "rgba(31, 119, 180, 1.0)",
           "rgba(31, 119, 180, 1.0)",
           "rgba(31, 119, 180, 1.0)",
           "rgba(31, 119, 180, 1.0)",
           "rgba(31, 119, 180, 1.0)",
           "rgba(31, 119, 180, 1.0)",
           "rgba(31, 119, 180, 1.0)",
           "rgba(31, 119, 180, 1.0)",
           "rgba(31, 119, 180, 1.0)",
           "rgba(31, 119, 180, 1.0)",
           "rgba(31, 119, 180, 1.0)"
          ],
          "opacity": 0.8,
          "size": 5
         },
         "mode": "markers",
         "text": [
          "Type: Section 1: Resuscitative Problems and Techniques Advanced Airway Support<br>Text: Control of the airway is the single most important task for emergency resuscitation.\n\n**INITIAL APPR...",
          "Type: Section 1: Resuscitative Problems and Techniques Advanced Airway Support<br>Text: 1. Prepare equipment, personnel, and drugs before attempting intubation. Assess airway difficulty an...",
          "Type: Section 1: Resuscitative Problems and Techniques Advanced Airway Support<br>Text: Immediate complications include unrecognized esophageal intubation or mainstem bronchus intubation.\n...",
          "Type: Section 1: Resuscitative Problems and Techniques Advanced Airway Support<br>Text: 1. Prepare equipment, medication, and personnel before initiation of RSI. Check equipment function. ...",
          "Type: Section 1: Resuscitative Problems and Techniques Advanced Airway Support<br>Text: Videolaryngoscopy is an excellent option for airway rescue or as a primary intubation technique, dem...",
          "Type: Section 1: Resuscitative Problems and Techniques Advanced Airway Support<br>Text: Bilevel positive airway pressure (BiPAP) uses different levels of pressure during inspiration and ex...",
          "Type: Section 1: Resuscitative Problems and Techniques Advanced Airway Support<br>Text: Emergency Department Care and Disposition  \n1. Discontinue precipitating drugs (alcohol, tobacco, or...",
          "Type: Section 1: Resuscitative Problems and Techniques Advanced Airway Support<br>Text: Emergency Department Care and Disposition  \nSinus bradycardia usually does not require specific trea...",
          "Type: Section 1: Resuscitative Problems and Techniques Advanced Airway Support<br>Text: Emergency Department Care and Disposition  \nDiagnose and treat the underlying condition.  \nSupravent...",
          "Type: Section 1: Resuscitative Problems and Techniques Advanced Airway Support<br>Text: Emergency Department Care and Disposition:\n1. Perform synchronized cardioversion in any unstable pat...",
          "Type: Section 1: Resuscitative Problems and Techniques Advanced Airway Support<br>Text: Atrial flutter originates from a small area within the atria. ECG characteristics include a regular ...",
          "Type: Section 1: Resuscitative Problems and Techniques Advanced Airway Support<br>Text: Emergency Department Care and Disposition:\n1. Treat unstable patients with synchronized cardioversio...",
          "Type: Section 1: Resuscitative Problems and Techniques Advanced Airway Support<br>Text: Emergency Department Care and Disposition:\n1. Treat the underlying disorder.\n2. Specific antiarrhyth...",
          "Type: Section 1: Resuscitative Problems and Techniques Advanced Airway Support<br>Text: Emergency Department Care and Disposition:\n1. Stable patients require no treatment.\n2. Patients with...",
          "Type: Section 1: Resuscitative Problems and Techniques Advanced Airway Support<br>Text: Emergency Department Care and Disposition for VT:\n1. Defibrillate pulseless VT with unsynchronized c...",
          "Type: Section 1: Resuscitative Problems and Techniques Advanced Airway Support<br>Text: Emergency Department Care and Disposition  \n1. Perform immediate electrical defibrillation (unsynchr...",
          "Type: Section 1: Resuscitative Problems and Techniques Advanced Airway Support<br>Text: Emergency Department Care and Disposition  \n1. Specific treatment is not necessary unless slow ventr...",
          "Type: Section 1: Resuscitative Problems and Techniques Advanced Airway Support<br>Text: When third-degree AV block occurs at the infranodal level, the ventricles are driven by a ventricula...",
          "Type: Section 1: Resuscitative Problems and Techniques Advanced Airway Support<br>Text: Preterminal Rhythms:\nPulseless Electrical Activity:\nPulseless electrical activity is the presence of...",
          "Type: Section 1: Resuscitative Problems and Techniques Advanced Airway Support<br>Text: Children primarily develop cardiac arrest secondary to hypoxia from respiratory arrest or shock synd...",
          "Type: Section 1: Resuscitative Problems and Techniques Advanced Airway Support<br>Text: Directions for use: (1) measure patient length with centimeter tape; (2) using measured length in ce...",
          "Type: Section 1: Resuscitative Problems and Techniques Advanced Airway Support<br>Text: Begin fluid resuscitation with rapid infusion of isotonic saline, 20 mL/kilogram IV bolus. Repeat as...",
          "Type: Section 1: Resuscitative Problems and Techniques Advanced Airway Support<br>Text: TABLE 3-4 Treatment of Pediatric Pulseless Arrest\n1. Initiate BLS; CPR; administer oxygen, attach mo...",
          "Type: Section 1: Resuscitative Problems and Techniques Advanced Airway Support<br>Text: Ventricular tachycardia:\n1. Perform synchronized cardioversion, 0.5-1 J/kilogram. Sedate if possible...",
          "Type: Section 1: Resuscitative Problems and Techniques Advanced Airway Support<br>Text: Neonatal Resuscitation:\n1. The first step in neonatal resuscitation is to maintain body temperature....",
          "Type: Section 1: Resuscitative Problems and Techniques Advanced Airway Support<br>Text: After intubation and assisted ventilation for 30 seconds, begin cardiac compressions at 90 chest com...",
          "Type: Section 1: Resuscitative Problems and Techniques Advanced Airway Support<br>Text: Volume loss and dehydration can be inferred by the patient history. Historical features include: vom...",
          "Type: Section 1: Resuscitative Problems and Techniques Advanced Airway Support<br>Text: Hyponatremia ([Na + ] < 135 mEq/L)  \nClinical Features  \nThe clinical manifestations of hyponatremia...",
          "Type: Section 1: Resuscitative Problems and Techniques Advanced Airway Support<br>Text: Diagnosis and Differential  \nHypernatremia is most commonly caused by a decrease in total body water...",
          "Type: Section 1: Resuscitative Problems and Techniques Advanced Airway Support<br>Text: **Hypokalemia ([K+] < 3.5 mEq/L)**  \nClinical Features: The signs and symptoms of hypokalemia usuall...",
          "Type: Section 1: Resuscitative Problems and Techniques Advanced Airway Support<br>Text: TABLE 4-4 Causes of Hyperkalemia\n- Factitious: Laboratory error, Hemolysis and leukocytosis\n- Increa...",
          "Type: Section 1: Resuscitative Problems and Techniques Advanced Airway Support<br>Text: Diagnosis and Differential: Causes include shock, sepsis, fat embolism, renal failure, pancreatitis,...",
          "Type: Section 1: Resuscitative Problems and Techniques Advanced Airway Support<br>Text: Hypomagnesemia  \nClinical Findings  \n[Mg2+], [K+], and [PO4−] move together intra- and extracellular...",
          "Type: Section 1: Resuscitative Problems and Techniques Advanced Airway Support<br>Text: Emergency Department Care and Disposition  \n1. In many patients, stopping [Mg2+] intake is sufficien...",
          "Type: Section 1: Resuscitative Problems and Techniques Advanced Airway Support<br>Text: Stepwise Method of Acid-Base Clinical Problem Solving:\n- Use the patient’s pre-illness values as a b...",
          "Type: Section 1: Resuscitative Problems and Techniques Advanced Airway Support<br>Text: Metabolic Acidosis:\n- Metabolic acidosis should be divided into an increased and normal AG acidosis....",
          "Type: Section 1: Resuscitative Problems and Techniques Advanced Airway Support<br>Text: Indications for bicarbonate therapy are listed in Table 4-7. Give 0.5 mEq/kilogram bicarbonate for e...",
          "Type: Section 1: Resuscitative Problems and Techniques Advanced Airway Support<br>Text: Emergency Department Care and Disposition for Metabolic Alkalosis:\n1. Administer NS to treat dehydra...",
          "Type: Section 1: Resuscitative Problems and Techniques Advanced Airway Support<br>Text: Factors that influence the clinical presentation of a patient in shock include the etiology, duratio...",
          "Type: Section 1: Resuscitative Problems and Techniques Advanced Airway Support<br>Text: The respiratory rate is frequently elevated early in shock. Increased minute ventilation, increased ...",
          "Type: Section 1: Resuscitative Problems and Techniques Advanced Airway Support<br>Text: The clinical presentation and presumed etiology of shock will dictate the diagnostic studies, monito...",
          "Type: Section 1: Resuscitative Problems and Techniques Advanced Airway Support<br>Text: Supplemental high-flow oxygen. If mechanical ventilation is used, neuromuscular blocking agents shou...",
          "Type: Section 1: Resuscitative Problems and Techniques Advanced Airway Support<br>Text: Blood remains the ideal resuscitative fluid. When possible, use fully cross-matched PRBCs. If the cl...",
          "Type: Section 1: Resuscitative Problems and Techniques Advanced Airway Support<br>Text: Early surgical or medical consultation for admission or transfer is indicated.\n\nlocalized urticaria ...",
          "Type: Section 1: Resuscitative Problems and Techniques Advanced Airway Support<br>Text: Resuscitation must begin with airway, breathing, and circulation. Patients with confirmed or suspect...",
          "Type: Section 1: Resuscitative Problems and Techniques Advanced Airway Support<br>Text: C1 esterase inhibitor replacement is the primary treatment for patients with unstable or refractory ..."
         ],
         "type": "scatter3d",
         "x": [
          -9.346824,
          -131.88487,
          39.33585,
          -7.924113,
          41.47446,
          -83.82476,
          -82.38613,
          -43.923767,
          76.81502,
          110.03323,
          112.3559,
          84.02044,
          36.171513,
          -109.109924,
          66.66926,
          2.9555595,
          -51.52938,
          48.681637,
          59.55724,
          34.769806,
          70.45803,
          -49.431007,
          -28.869478,
          36.288563,
          2.5420008,
          -42.400806,
          -82.29994,
          -35.81849,
          -86.96344,
          -21.472118,
          -54.48173,
          72.602875,
          -12.412892,
          -31.57695,
          135.9553,
          -30.37244,
          17.020407,
          -9.79364,
          43.348225,
          -69.566185,
          8.275721,
          -118.24704,
          31.730528,
          121.022224,
          114.423004,
          10.1967535
         ],
         "y": [
          -106.40563,
          -71.9744,
          -114.06141,
          -93.180626,
          -55.730877,
          27.51455,
          -72.73559,
          25.470062,
          -26.411943,
          1.3873004,
          -77.8285,
          18.351011,
          -26.950315,
          54.815624,
          -46.11734,
          3.108942,
          -38.544823,
          -72.13185,
          24.557165,
          69.36406,
          66.71609,
          -105.55403,
          89.792366,
          -126.67506,
          30.14479,
          68.2716,
          -23.562588,
          -31.52407,
          -11.745322,
          -35.888958,
          18.937735,
          -2.7130916,
          21.570555,
          -19.16159,
          1.5667713,
          86.850975,
          9.6303005,
          58.368267,
          89.4335,
          95.41731,
          129.33286,
          -2.8600183,
          94.37145,
          -80.03321,
          63.510956,
          -46.665096
         ],
         "z": [
          -89.513435,
          -33.222004,
          90.61609,
          43.9506,
          55.328003,
          67.23722,
          42.8426,
          128.49075,
          -3.6894894,
          45.172726,
          22.870108,
          -107.81629,
          -75.99473,
          -50.77541,
          -124.828606,
          77.42337,
          94.93393,
          -35.00516,
          -45.340164,
          109.8482,
          56.684753,
          -22.143944,
          83.49819,
          -3.717456,
          -139.32329,
          -109.44945,
          -59.17998,
          -100.83719,
          -119.48196,
          -33.159645,
          -15.685545,
          108.70227,
          -59.991974,
          25.36864,
          -46.427334,
          -37.47688,
          4.2774725,
          22.69294,
          -13.299794,
          17.615452,
          10.342245,
          11.404342,
          -83.52148,
          -61.47589,
          -5.35306,
          137.93912
         ]
        }
       ],
       "layout": {
        "height": 600,
        "margin": {
         "b": 10,
         "l": 10,
         "r": 20,
         "t": 40
        },
        "scene": {
         "aspectmode": "auto",
         "aspectratio": {
          "x": 1.0035422845267057,
          "y": 0.9592092660848076,
          "z": 1.0388454888778635
         },
         "camera": {
          "center": {
           "x": 0,
           "y": 0,
           "z": 0
          },
          "eye": {
           "x": 1.4041870736397597,
           "y": 1.016096561438865,
           "z": 1.6574857684566995
          },
          "projection": {
           "type": "perspective"
          },
          "up": {
           "x": 0,
           "y": 0,
           "z": 1
          }
         },
         "xaxis": {
          "title": {
           "text": "Dimension 1"
          },
          "type": "linear"
         },
         "yaxis": {
          "title": {
           "text": "Dimension 2"
          },
          "type": "linear"
         },
         "zaxis": {
          "title": {
           "text": "Dimension 3"
          },
          "type": "linear"
         }
        },
        "template": {
         "data": {
          "bar": [
           {
            "error_x": {
             "color": "#2a3f5f"
            },
            "error_y": {
             "color": "#2a3f5f"
            },
            "marker": {
             "line": {
              "color": "#E5ECF6",
              "width": 0.5
             },
             "pattern": {
              "fillmode": "overlay",
              "size": 10,
              "solidity": 0.2
             }
            },
            "type": "bar"
           }
          ],
          "barpolar": [
           {
            "marker": {
             "line": {
              "color": "#E5ECF6",
              "width": 0.5
             },
             "pattern": {
              "fillmode": "overlay",
              "size": 10,
              "solidity": 0.2
             }
            },
            "type": "barpolar"
           }
          ],
          "carpet": [
           {
            "aaxis": {
             "endlinecolor": "#2a3f5f",
             "gridcolor": "white",
             "linecolor": "white",
             "minorgridcolor": "white",
             "startlinecolor": "#2a3f5f"
            },
            "baxis": {
             "endlinecolor": "#2a3f5f",
             "gridcolor": "white",
             "linecolor": "white",
             "minorgridcolor": "white",
             "startlinecolor": "#2a3f5f"
            },
            "type": "carpet"
           }
          ],
          "choropleth": [
           {
            "colorbar": {
             "outlinewidth": 0,
             "ticks": ""
            },
            "type": "choropleth"
           }
          ],
          "contour": [
           {
            "colorbar": {
             "outlinewidth": 0,
             "ticks": ""
            },
            "colorscale": [
             [
              0,
              "#0d0887"
             ],
             [
              0.1111111111111111,
              "#46039f"
             ],
             [
              0.2222222222222222,
              "#7201a8"
             ],
             [
              0.3333333333333333,
              "#9c179e"
             ],
             [
              0.4444444444444444,
              "#bd3786"
             ],
             [
              0.5555555555555556,
              "#d8576b"
             ],
             [
              0.6666666666666666,
              "#ed7953"
             ],
             [
              0.7777777777777778,
              "#fb9f3a"
             ],
             [
              0.8888888888888888,
              "#fdca26"
             ],
             [
              1,
              "#f0f921"
             ]
            ],
            "type": "contour"
           }
          ],
          "contourcarpet": [
           {
            "colorbar": {
             "outlinewidth": 0,
             "ticks": ""
            },
            "type": "contourcarpet"
           }
          ],
          "heatmap": [
           {
            "colorbar": {
             "outlinewidth": 0,
             "ticks": ""
            },
            "colorscale": [
             [
              0,
              "#0d0887"
             ],
             [
              0.1111111111111111,
              "#46039f"
             ],
             [
              0.2222222222222222,
              "#7201a8"
             ],
             [
              0.3333333333333333,
              "#9c179e"
             ],
             [
              0.4444444444444444,
              "#bd3786"
             ],
             [
              0.5555555555555556,
              "#d8576b"
             ],
             [
              0.6666666666666666,
              "#ed7953"
             ],
             [
              0.7777777777777778,
              "#fb9f3a"
             ],
             [
              0.8888888888888888,
              "#fdca26"
             ],
             [
              1,
              "#f0f921"
             ]
            ],
            "type": "heatmap"
           }
          ],
          "heatmapgl": [
           {
            "colorbar": {
             "outlinewidth": 0,
             "ticks": ""
            },
            "colorscale": [
             [
              0,
              "#0d0887"
             ],
             [
              0.1111111111111111,
              "#46039f"
             ],
             [
              0.2222222222222222,
              "#7201a8"
             ],
             [
              0.3333333333333333,
              "#9c179e"
             ],
             [
              0.4444444444444444,
              "#bd3786"
             ],
             [
              0.5555555555555556,
              "#d8576b"
             ],
             [
              0.6666666666666666,
              "#ed7953"
             ],
             [
              0.7777777777777778,
              "#fb9f3a"
             ],
             [
              0.8888888888888888,
              "#fdca26"
             ],
             [
              1,
              "#f0f921"
             ]
            ],
            "type": "heatmapgl"
           }
          ],
          "histogram": [
           {
            "marker": {
             "pattern": {
              "fillmode": "overlay",
              "size": 10,
              "solidity": 0.2
             }
            },
            "type": "histogram"
           }
          ],
          "histogram2d": [
           {
            "colorbar": {
             "outlinewidth": 0,
             "ticks": ""
            },
            "colorscale": [
             [
              0,
              "#0d0887"
             ],
             [
              0.1111111111111111,
              "#46039f"
             ],
             [
              0.2222222222222222,
              "#7201a8"
             ],
             [
              0.3333333333333333,
              "#9c179e"
             ],
             [
              0.4444444444444444,
              "#bd3786"
             ],
             [
              0.5555555555555556,
              "#d8576b"
             ],
             [
              0.6666666666666666,
              "#ed7953"
             ],
             [
              0.7777777777777778,
              "#fb9f3a"
             ],
             [
              0.8888888888888888,
              "#fdca26"
             ],
             [
              1,
              "#f0f921"
             ]
            ],
            "type": "histogram2d"
           }
          ],
          "histogram2dcontour": [
           {
            "colorbar": {
             "outlinewidth": 0,
             "ticks": ""
            },
            "colorscale": [
             [
              0,
              "#0d0887"
             ],
             [
              0.1111111111111111,
              "#46039f"
             ],
             [
              0.2222222222222222,
              "#7201a8"
             ],
             [
              0.3333333333333333,
              "#9c179e"
             ],
             [
              0.4444444444444444,
              "#bd3786"
             ],
             [
              0.5555555555555556,
              "#d8576b"
             ],
             [
              0.6666666666666666,
              "#ed7953"
             ],
             [
              0.7777777777777778,
              "#fb9f3a"
             ],
             [
              0.8888888888888888,
              "#fdca26"
             ],
             [
              1,
              "#f0f921"
             ]
            ],
            "type": "histogram2dcontour"
           }
          ],
          "mesh3d": [
           {
            "colorbar": {
             "outlinewidth": 0,
             "ticks": ""
            },
            "type": "mesh3d"
           }
          ],
          "parcoords": [
           {
            "line": {
             "colorbar": {
              "outlinewidth": 0,
              "ticks": ""
             }
            },
            "type": "parcoords"
           }
          ],
          "pie": [
           {
            "automargin": true,
            "type": "pie"
           }
          ],
          "scatter": [
           {
            "fillpattern": {
             "fillmode": "overlay",
             "size": 10,
             "solidity": 0.2
            },
            "type": "scatter"
           }
          ],
          "scatter3d": [
           {
            "line": {
             "colorbar": {
              "outlinewidth": 0,
              "ticks": ""
             }
            },
            "marker": {
             "colorbar": {
              "outlinewidth": 0,
              "ticks": ""
             }
            },
            "type": "scatter3d"
           }
          ],
          "scattercarpet": [
           {
            "marker": {
             "colorbar": {
              "outlinewidth": 0,
              "ticks": ""
             }
            },
            "type": "scattercarpet"
           }
          ],
          "scattergeo": [
           {
            "marker": {
             "colorbar": {
              "outlinewidth": 0,
              "ticks": ""
             }
            },
            "type": "scattergeo"
           }
          ],
          "scattergl": [
           {
            "marker": {
             "colorbar": {
              "outlinewidth": 0,
              "ticks": ""
             }
            },
            "type": "scattergl"
           }
          ],
          "scattermapbox": [
           {
            "marker": {
             "colorbar": {
              "outlinewidth": 0,
              "ticks": ""
             }
            },
            "type": "scattermapbox"
           }
          ],
          "scatterpolar": [
           {
            "marker": {
             "colorbar": {
              "outlinewidth": 0,
              "ticks": ""
             }
            },
            "type": "scatterpolar"
           }
          ],
          "scatterpolargl": [
           {
            "marker": {
             "colorbar": {
              "outlinewidth": 0,
              "ticks": ""
             }
            },
            "type": "scatterpolargl"
           }
          ],
          "scatterternary": [
           {
            "marker": {
             "colorbar": {
              "outlinewidth": 0,
              "ticks": ""
             }
            },
            "type": "scatterternary"
           }
          ],
          "surface": [
           {
            "colorbar": {
             "outlinewidth": 0,
             "ticks": ""
            },
            "colorscale": [
             [
              0,
              "#0d0887"
             ],
             [
              0.1111111111111111,
              "#46039f"
             ],
             [
              0.2222222222222222,
              "#7201a8"
             ],
             [
              0.3333333333333333,
              "#9c179e"
             ],
             [
              0.4444444444444444,
              "#bd3786"
             ],
             [
              0.5555555555555556,
              "#d8576b"
             ],
             [
              0.6666666666666666,
              "#ed7953"
             ],
             [
              0.7777777777777778,
              "#fb9f3a"
             ],
             [
              0.8888888888888888,
              "#fdca26"
             ],
             [
              1,
              "#f0f921"
             ]
            ],
            "type": "surface"
           }
          ],
          "table": [
           {
            "cells": {
             "fill": {
              "color": "#EBF0F8"
             },
             "line": {
              "color": "white"
             }
            },
            "header": {
             "fill": {
              "color": "#C8D4E3"
             },
             "line": {
              "color": "white"
             }
            },
            "type": "table"
           }
          ]
         },
         "layout": {
          "annotationdefaults": {
           "arrowcolor": "#2a3f5f",
           "arrowhead": 0,
           "arrowwidth": 1
          },
          "autotypenumbers": "strict",
          "coloraxis": {
           "colorbar": {
            "outlinewidth": 0,
            "ticks": ""
           }
          },
          "colorscale": {
           "diverging": [
            [
             0,
             "#8e0152"
            ],
            [
             0.1,
             "#c51b7d"
            ],
            [
             0.2,
             "#de77ae"
            ],
            [
             0.3,
             "#f1b6da"
            ],
            [
             0.4,
             "#fde0ef"
            ],
            [
             0.5,
             "#f7f7f7"
            ],
            [
             0.6,
             "#e6f5d0"
            ],
            [
             0.7,
             "#b8e186"
            ],
            [
             0.8,
             "#7fbc41"
            ],
            [
             0.9,
             "#4d9221"
            ],
            [
             1,
             "#276419"
            ]
           ],
           "sequential": [
            [
             0,
             "#0d0887"
            ],
            [
             0.1111111111111111,
             "#46039f"
            ],
            [
             0.2222222222222222,
             "#7201a8"
            ],
            [
             0.3333333333333333,
             "#9c179e"
            ],
            [
             0.4444444444444444,
             "#bd3786"
            ],
            [
             0.5555555555555556,
             "#d8576b"
            ],
            [
             0.6666666666666666,
             "#ed7953"
            ],
            [
             0.7777777777777778,
             "#fb9f3a"
            ],
            [
             0.8888888888888888,
             "#fdca26"
            ],
            [
             1,
             "#f0f921"
            ]
           ],
           "sequentialminus": [
            [
             0,
             "#0d0887"
            ],
            [
             0.1111111111111111,
             "#46039f"
            ],
            [
             0.2222222222222222,
             "#7201a8"
            ],
            [
             0.3333333333333333,
             "#9c179e"
            ],
            [
             0.4444444444444444,
             "#bd3786"
            ],
            [
             0.5555555555555556,
             "#d8576b"
            ],
            [
             0.6666666666666666,
             "#ed7953"
            ],
            [
             0.7777777777777778,
             "#fb9f3a"
            ],
            [
             0.8888888888888888,
             "#fdca26"
            ],
            [
             1,
             "#f0f921"
            ]
           ]
          },
          "colorway": [
           "#636efa",
           "#EF553B",
           "#00cc96",
           "#ab63fa",
           "#FFA15A",
           "#19d3f3",
           "#FF6692",
           "#B6E880",
           "#FF97FF",
           "#FECB52"
          ],
          "font": {
           "color": "#2a3f5f"
          },
          "geo": {
           "bgcolor": "white",
           "lakecolor": "white",
           "landcolor": "#E5ECF6",
           "showlakes": true,
           "showland": true,
           "subunitcolor": "white"
          },
          "hoverlabel": {
           "align": "left"
          },
          "hovermode": "closest",
          "mapbox": {
           "style": "light"
          },
          "paper_bgcolor": "white",
          "plot_bgcolor": "#E5ECF6",
          "polar": {
           "angularaxis": {
            "gridcolor": "white",
            "linecolor": "white",
            "ticks": ""
           },
           "bgcolor": "#E5ECF6",
           "radialaxis": {
            "gridcolor": "white",
            "linecolor": "white",
            "ticks": ""
           }
          },
          "scene": {
           "xaxis": {
            "backgroundcolor": "#E5ECF6",
            "gridcolor": "white",
            "gridwidth": 2,
            "linecolor": "white",
            "showbackground": true,
            "ticks": "",
            "zerolinecolor": "white"
           },
           "yaxis": {
            "backgroundcolor": "#E5ECF6",
            "gridcolor": "white",
            "gridwidth": 2,
            "linecolor": "white",
            "showbackground": true,
            "ticks": "",
            "zerolinecolor": "white"
           },
           "zaxis": {
            "backgroundcolor": "#E5ECF6",
            "gridcolor": "white",
            "gridwidth": 2,
            "linecolor": "white",
            "showbackground": true,
            "ticks": "",
            "zerolinecolor": "white"
           }
          },
          "shapedefaults": {
           "line": {
            "color": "#2a3f5f"
           }
          },
          "ternary": {
           "aaxis": {
            "gridcolor": "white",
            "linecolor": "white",
            "ticks": ""
           },
           "baxis": {
            "gridcolor": "white",
            "linecolor": "white",
            "ticks": ""
           },
           "bgcolor": "#E5ECF6",
           "caxis": {
            "gridcolor": "white",
            "linecolor": "white",
            "ticks": ""
           }
          },
          "title": {
           "x": 0.05
          },
          "xaxis": {
           "automargin": true,
           "gridcolor": "white",
           "linecolor": "white",
           "ticks": "",
           "title": {
            "standoff": 15
           },
           "zerolinecolor": "white",
           "zerolinewidth": 2
          },
          "yaxis": {
           "automargin": true,
           "gridcolor": "white",
           "linecolor": "white",
           "ticks": "",
           "title": {
            "standoff": 15
           },
           "zerolinecolor": "white",
           "zerolinewidth": 2
          }
         }
        },
        "title": {
         "text": "3D Chroma Vector Store Visualization"
        },
        "width": 800
       }
      },
      "image/png": "[encoded data removed]",
      "text/html": [
       "<div>                            <div id=\"18b8d6a1-ab2c-44e7-91a5-85dea2218edb\" class=\"plotly-graph-div\" style=\"height:600px; width:800px;\"></div>            <script type=\"text/javascript\">                require([\"plotly\"], function(Plotly) {                    window.PLOTLYENV=window.PLOTLYENV || {};                                    if (document.getElementById(\"18b8d6a1-ab2c-44e7-91a5-85dea2218edb\")) {                    Plotly.newPlot(                        \"18b8d6a1-ab2c-44e7-91a5-85dea2218edb\",                        [{\"hoverinfo\":\"text\",\"marker\":{\"color\":[\"rgba(31, 119, 180, 1.0)\",\"rgba(31, 119, 180, 1.0)\",\"rgba(31, 119, 180, 1.0)\",\"rgba(31, 119, 180, 1.0)\",\"rgba(31, 119, 180, 1.0)\",\"rgba(31, 119, 180, 1.0)\",\"rgba(31, 119, 180, 1.0)\",\"rgba(31, 119, 180, 1.0)\",\"rgba(31, 119, 180, 1.0)\",\"rgba(31, 119, 180, 1.0)\",\"rgba(31, 119, 180, 1.0)\",\"rgba(31, 119, 180, 1.0)\",\"rgba(31, 119, 180, 1.0)\",\"rgba(31, 119, 180, 1.0)\",\"rgba(31, 119, 180, 1.0)\",\"rgba(31, 119, 180, 1.0)\",\"rgba(31, 119, 180, 1.0)\",\"rgba(31, 119, 180, 1.0)\",\"rgba(31, 119, 180, 1.0)\",\"rgba(31, 119, 180, 1.0)\",\"rgba(31, 119, 180, 1.0)\",\"rgba(31, 119, 180, 1.0)\",\"rgba(31, 119, 180, 1.0)\",\"rgba(31, 119, 180, 1.0)\",\"rgba(31, 119, 180, 1.0)\",\"rgba(31, 119, 180, 1.0)\",\"rgba(31, 119, 180, 1.0)\",\"rgba(31, 119, 180, 1.0)\",\"rgba(31, 119, 180, 1.0)\",\"rgba(31, 119, 180, 1.0)\",\"rgba(31, 119, 180, 1.0)\",\"rgba(31, 119, 180, 1.0)\",\"rgba(31, 119, 180, 1.0)\",\"rgba(31, 119, 180, 1.0)\",\"rgba(31, 119, 180, 1.0)\",\"rgba(31, 119, 180, 1.0)\",\"rgba(31, 119, 180, 1.0)\",\"rgba(31, 119, 180, 1.0)\",\"rgba(31, 119, 180, 1.0)\",\"rgba(31, 119, 180, 1.0)\",\"rgba(31, 119, 180, 1.0)\",\"rgba(31, 119, 180, 1.0)\",\"rgba(31, 119, 180, 1.0)\",\"rgba(31, 119, 180, 1.0)\",\"rgba(31, 119, 180, 1.0)\",\"rgba(31, 119, 180, 1.0)\"],\"opacity\":0.8,\"size\":5},\"mode\":\"markers\",\"text\":[\"Type: Section 1: Resuscitative Problems and Techniques Advanced Airway Support\\u003cbr\\u003eText: Control of the airway is the single most important task for emergency resuscitation.\\n\\n**INITIAL APPR...\",\"Type: Section 1: Resuscitative Problems and Techniques Advanced Airway Support\\u003cbr\\u003eText: 1. Prepare equipment, personnel, and drugs before attempting intubation. Assess airway difficulty an...\",\"Type: Section 1: Resuscitative Problems and Techniques Advanced Airway Support\\u003cbr\\u003eText: Immediate complications include unrecognized esophageal intubation or mainstem bronchus intubation.\\n...\",\"Type: Section 1: Resuscitative Problems and Techniques Advanced Airway Support\\u003cbr\\u003eText: 1. Prepare equipment, medication, and personnel before initiation of RSI. Check equipment function. ...\",\"Type: Section 1: Resuscitative Problems and Techniques Advanced Airway Support\\u003cbr\\u003eText: Videolaryngoscopy is an excellent option for airway rescue or as a primary intubation technique, dem...\",\"Type: Section 1: Resuscitative Problems and Techniques Advanced Airway Support\\u003cbr\\u003eText: Bilevel positive airway pressure (BiPAP) uses different levels of pressure during inspiration and ex...\",\"Type: Section 1: Resuscitative Problems and Techniques Advanced Airway Support\\u003cbr\\u003eText: Emergency Department Care and Disposition  \\n1. Discontinue precipitating drugs (alcohol, tobacco, or...\",\"Type: Section 1: Resuscitative Problems and Techniques Advanced Airway Support\\u003cbr\\u003eText: Emergency Department Care and Disposition  \\nSinus bradycardia usually does not require specific trea...\",\"Type: Section 1: Resuscitative Problems and Techniques Advanced Airway Support\\u003cbr\\u003eText: Emergency Department Care and Disposition  \\nDiagnose and treat the underlying condition.  \\nSupravent...\",\"Type: Section 1: Resuscitative Problems and Techniques Advanced Airway Support\\u003cbr\\u003eText: Emergency Department Care and Disposition:\\n1. Perform synchronized cardioversion in any unstable pat...\",\"Type: Section 1: Resuscitative Problems and Techniques Advanced Airway Support\\u003cbr\\u003eText: Atrial flutter originates from a small area within the atria. ECG characteristics include a regular ...\",\"Type: Section 1: Resuscitative Problems and Techniques Advanced Airway Support\\u003cbr\\u003eText: Emergency Department Care and Disposition:\\n1. Treat unstable patients with synchronized cardioversio...\",\"Type: Section 1: Resuscitative Problems and Techniques Advanced Airway Support\\u003cbr\\u003eText: Emergency Department Care and Disposition:\\n1. Treat the underlying disorder.\\n2. Specific antiarrhyth...\",\"Type: Section 1: Resuscitative Problems and Techniques Advanced Airway Support\\u003cbr\\u003eText: Emergency Department Care and Disposition:\\n1. Stable patients require no treatment.\\n2. Patients with...\",\"Type: Section 1: Resuscitative Problems and Techniques Advanced Airway Support\\u003cbr\\u003eText: Emergency Department Care and Disposition for VT:\\n1. Defibrillate pulseless VT with unsynchronized c...\",\"Type: Section 1: Resuscitative Problems and Techniques Advanced Airway Support\\u003cbr\\u003eText: Emergency Department Care and Disposition  \\n1. Perform immediate electrical defibrillation (unsynchr...\",\"Type: Section 1: Resuscitative Problems and Techniques Advanced Airway Support\\u003cbr\\u003eText: Emergency Department Care and Disposition  \\n1. Specific treatment is not necessary unless slow ventr...\",\"Type: Section 1: Resuscitative Problems and Techniques Advanced Airway Support\\u003cbr\\u003eText: When third-degree AV block occurs at the infranodal level, the ventricles are driven by a ventricula...\",\"Type: Section 1: Resuscitative Problems and Techniques Advanced Airway Support\\u003cbr\\u003eText: Preterminal Rhythms:\\nPulseless Electrical Activity:\\nPulseless electrical activity is the presence of...\",\"Type: Section 1: Resuscitative Problems and Techniques Advanced Airway Support\\u003cbr\\u003eText: Children primarily develop cardiac arrest secondary to hypoxia from respiratory arrest or shock synd...\",\"Type: Section 1: Resuscitative Problems and Techniques Advanced Airway Support\\u003cbr\\u003eText: Directions for use: (1) measure patient length with centimeter tape; (2) using measured length in ce...\",\"Type: Section 1: Resuscitative Problems and Techniques Advanced Airway Support\\u003cbr\\u003eText: Begin fluid resuscitation with rapid infusion of isotonic saline, 20 mL\\u002fkilogram IV bolus. Repeat as...\",\"Type: Section 1: Resuscitative Problems and Techniques Advanced Airway Support\\u003cbr\\u003eText: TABLE 3-4 Treatment of Pediatric Pulseless Arrest\\n1. Initiate BLS; CPR; administer oxygen, attach mo...\",\"Type: Section 1: Resuscitative Problems and Techniques Advanced Airway Support\\u003cbr\\u003eText: Ventricular tachycardia:\\n1. Perform synchronized cardioversion, 0.5-1 J\\u002fkilogram. Sedate if possible...\",\"Type: Section 1: Resuscitative Problems and Techniques Advanced Airway Support\\u003cbr\\u003eText: Neonatal Resuscitation:\\n1. The first step in neonatal resuscitation is to maintain body temperature....\",\"Type: Section 1: Resuscitative Problems and Techniques Advanced Airway Support\\u003cbr\\u003eText: After intubation and assisted ventilation for 30 seconds, begin cardiac compressions at 90 chest com...\",\"Type: Section 1: Resuscitative Problems and Techniques Advanced Airway Support\\u003cbr\\u003eText: Volume loss and dehydration can be inferred by the patient history. Historical features include: vom...\",\"Type: Section 1: Resuscitative Problems and Techniques Advanced Airway Support\\u003cbr\\u003eText: Hyponatremia ([Na + ] \\u003c 135 mEq\\u002fL)  \\nClinical Features  \\nThe clinical manifestations of hyponatremia...\",\"Type: Section 1: Resuscitative Problems and Techniques Advanced Airway Support\\u003cbr\\u003eText: Diagnosis and Differential  \\nHypernatremia is most commonly caused by a decrease in total body water...\",\"Type: Section 1: Resuscitative Problems and Techniques Advanced Airway Support\\u003cbr\\u003eText: **Hypokalemia ([K+] \\u003c 3.5 mEq\\u002fL)**  \\nClinical Features: The signs and symptoms of hypokalemia usuall...\",\"Type: Section 1: Resuscitative Problems and Techniques Advanced Airway Support\\u003cbr\\u003eText: TABLE 4-4 Causes of Hyperkalemia\\n- Factitious: Laboratory error, Hemolysis and leukocytosis\\n- Increa...\",\"Type: Section 1: Resuscitative Problems and Techniques Advanced Airway Support\\u003cbr\\u003eText: Diagnosis and Differential: Causes include shock, sepsis, fat embolism, renal failure, pancreatitis,...\",\"Type: Section 1: Resuscitative Problems and Techniques Advanced Airway Support\\u003cbr\\u003eText: Hypomagnesemia  \\nClinical Findings  \\n[Mg2+], [K+], and [PO4−] move together intra- and extracellular...\",\"Type: Section 1: Resuscitative Problems and Techniques Advanced Airway Support\\u003cbr\\u003eText: Emergency Department Care and Disposition  \\n1. In many patients, stopping [Mg2+] intake is sufficien...\",\"Type: Section 1: Resuscitative Problems and Techniques Advanced Airway Support\\u003cbr\\u003eText: Stepwise Method of Acid-Base Clinical Problem Solving:\\n- Use the patient’s pre-illness values as a b...\",\"Type: Section 1: Resuscitative Problems and Techniques Advanced Airway Support\\u003cbr\\u003eText: Metabolic Acidosis:\\n- Metabolic acidosis should be divided into an increased and normal AG acidosis....\",\"Type: Section 1: Resuscitative Problems and Techniques Advanced Airway Support\\u003cbr\\u003eText: Indications for bicarbonate therapy are listed in Table 4-7. Give 0.5 mEq\\u002fkilogram bicarbonate for e...\",\"Type: Section 1: Resuscitative Problems and Techniques Advanced Airway Support\\u003cbr\\u003eText: Emergency Department Care and Disposition for Metabolic Alkalosis:\\n1. Administer NS to treat dehydra...\",\"Type: Section 1: Resuscitative Problems and Techniques Advanced Airway Support\\u003cbr\\u003eText: Factors that influence the clinical presentation of a patient in shock include the etiology, duratio...\",\"Type: Section 1: Resuscitative Problems and Techniques Advanced Airway Support\\u003cbr\\u003eText: The respiratory rate is frequently elevated early in shock. Increased minute ventilation, increased ...\",\"Type: Section 1: Resuscitative Problems and Techniques Advanced Airway Support\\u003cbr\\u003eText: The clinical presentation and presumed etiology of shock will dictate the diagnostic studies, monito...\",\"Type: Section 1: Resuscitative Problems and Techniques Advanced Airway Support\\u003cbr\\u003eText: Supplemental high-flow oxygen. If mechanical ventilation is used, neuromuscular blocking agents shou...\",\"Type: Section 1: Resuscitative Problems and Techniques Advanced Airway Support\\u003cbr\\u003eText: Blood remains the ideal resuscitative fluid. When possible, use fully cross-matched PRBCs. If the cl...\",\"Type: Section 1: Resuscitative Problems and Techniques Advanced Airway Support\\u003cbr\\u003eText: Early surgical or medical consultation for admission or transfer is indicated.\\n\\nlocalized urticaria ...\",\"Type: Section 1: Resuscitative Problems and Techniques Advanced Airway Support\\u003cbr\\u003eText: Resuscitation must begin with airway, breathing, and circulation. Patients with confirmed or suspect...\",\"Type: Section 1: Resuscitative Problems and Techniques Advanced Airway Support\\u003cbr\\u003eText: C1 esterase inhibitor replacement is the primary treatment for patients with unstable or refractory ...\"],\"x\":[-9.346824,-131.88487,39.33585,-7.924113,41.47446,-83.82476,-82.38613,-43.923767,76.81502,110.03323,112.3559,84.02044,36.171513,-109.109924,66.66926,2.9555595,-51.52938,48.681637,59.55724,34.769806,70.45803,-49.431007,-28.869478,36.288563,2.5420008,-42.400806,-82.29994,-35.81849,-86.96344,-21.472118,-54.48173,72.602875,-12.412892,-31.57695,135.9553,-30.37244,17.020407,-9.79364,43.348225,-69.566185,8.275721,-118.24704,31.730528,121.022224,114.423004,10.1967535],\"y\":[-106.40563,-71.9744,-114.06141,-93.180626,-55.730877,27.51455,-72.73559,25.470062,-26.411943,1.3873004,-77.8285,18.351011,-26.950315,54.815624,-46.11734,3.108942,-38.544823,-72.13185,24.557165,69.36406,66.71609,-105.55403,89.792366,-126.67506,30.14479,68.2716,-23.562588,-31.52407,-11.745322,-35.888958,18.937735,-2.7130916,21.570555,-19.16159,1.5667713,86.850975,9.6303005,58.368267,89.4335,95.41731,129.33286,-2.8600183,94.37145,-80.03321,63.510956,-46.665096],\"z\":[-89.513435,-33.222004,90.61609,43.9506,55.328003,67.23722,42.8426,128.49075,-3.6894894,45.172726,22.870108,-107.81629,-75.99473,-50.77541,-124.828606,77.42337,94.93393,-35.00516,-45.340164,109.8482,56.684753,-22.143944,83.49819,-3.717456,-139.32329,-109.44945,-59.17998,-100.83719,-119.48196,-33.159645,-15.685545,108.70227,-59.991974,25.36864,-46.427334,-37.47688,4.2774725,22.69294,-13.299794,17.615452,10.342245,11.404342,-83.52148,-61.47589,-5.35306,137.93912],\"type\":\"scatter3d\"}],                        {\"template\":{\"data\":{\"histogram2dcontour\":[{\"type\":\"histogram2dcontour\",\"colorbar\":{\"outlinewidth\":0,\"ticks\":\"\"},\"colorscale\":[[0.0,\"#0d0887\"],[0.1111111111111111,\"#46039f\"],[0.2222222222222222,\"#7201a8\"],[0.3333333333333333,\"#9c179e\"],[0.4444444444444444,\"#bd3786\"],[0.5555555555555556,\"#d8576b\"],[0.6666666666666666,\"#ed7953\"],[0.7777777777777778,\"#fb9f3a\"],[0.8888888888888888,\"#fdca26\"],[1.0,\"#f0f921\"]]}],\"choropleth\":[{\"type\":\"choropleth\",\"colorbar\":{\"outlinewidth\":0,\"ticks\":\"\"}}],\"histogram2d\":[{\"type\":\"histogram2d\",\"colorbar\":{\"outlinewidth\":0,\"ticks\":\"\"},\"colorscale\":[[0.0,\"#0d0887\"],[0.1111111111111111,\"#46039f\"],[0.2222222222222222,\"#7201a8\"],[0.3333333333333333,\"#9c179e\"],[0.4444444444444444,\"#bd3786\"],[0.5555555555555556,\"#d8576b\"],[0.6666666666666666,\"#ed7953\"],[0.7777777777777778,\"#fb9f3a\"],[0.8888888888888888,\"#fdca26\"],[1.0,\"#f0f921\"]]}],\"heatmap\":[{\"type\":\"heatmap\",\"colorbar\":{\"outlinewidth\":0,\"ticks\":\"\"},\"colorscale\":[[0.0,\"#0d0887\"],[0.1111111111111111,\"#46039f\"],[0.2222222222222222,\"#7201a8\"],[0.3333333333333333,\"#9c179e\"],[0.4444444444444444,\"#bd3786\"],[0.5555555555555556,\"#d8576b\"],[0.6666666666666666,\"#ed7953\"],[0.7777777777777778,\"#fb9f3a\"],[0.8888888888888888,\"#fdca26\"],[1.0,\"#f0f921\"]]}],\"heatmapgl\":[{\"type\":\"heatmapgl\",\"colorbar\":{\"outlinewidth\":0,\"ticks\":\"\"},\"colorscale\":[[0.0,\"#0d0887\"],[0.1111111111111111,\"#46039f\"],[0.2222222222222222,\"#7201a8\"],[0.3333333333333333,\"#9c179e\"],[0.4444444444444444,\"#bd3786\"],[0.5555555555555556,\"#d8576b\"],[0.6666666666666666,\"#ed7953\"],[0.7777777777777778,\"#fb9f3a\"],[0.8888888888888888,\"#fdca26\"],[1.0,\"#f0f921\"]]}],\"contourcarpet\":[{\"type\":\"contourcarpet\",\"colorbar\":{\"outlinewidth\":0,\"ticks\":\"\"}}],\"contour\":[{\"type\":\"contour\",\"colorbar\":{\"outlinewidth\":0,\"ticks\":\"\"},\"colorscale\":[[0.0,\"#0d0887\"],[0.1111111111111111,\"#46039f\"],[0.2222222222222222,\"#7201a8\"],[0.3333333333333333,\"#9c179e\"],[0.4444444444444444,\"#bd3786\"],[0.5555555555555556,\"#d8576b\"],[0.6666666666666666,\"#ed7953\"],[0.7777777777777778,\"#fb9f3a\"],[0.8888888888888888,\"#fdca26\"],[1.0,\"#f0f921\"]]}],\"surface\":[{\"type\":\"surface\",\"colorbar\":{\"outlinewidth\":0,\"ticks\":\"\"},\"colorscale\":[[0.0,\"#0d0887\"],[0.1111111111111111,\"#46039f\"],[0.2222222222222222,\"#7201a8\"],[0.3333333333333333,\"#9c179e\"],[0.4444444444444444,\"#bd3786\"],[0.5555555555555556,\"#d8576b\"],[0.6666666666666666,\"#ed7953\"],[0.7777777777777778,\"#fb9f3a\"],[0.8888888888888888,\"#fdca26\"],[1.0,\"#f0f921\"]]}],\"mesh3d\":[{\"type\":\"mesh3d\",\"colorbar\":{\"outlinewidth\":0,\"ticks\":\"\"}}],\"scatter\":[{\"fillpattern\":{\"fillmode\":\"overlay\",\"size\":10,\"solidity\":0.2},\"type\":\"scatter\"}],\"parcoords\":[{\"type\":\"parcoords\",\"line\":{\"colorbar\":{\"outlinewidth\":0,\"ticks\":\"\"}}}],\"scatterpolargl\":[{\"type\":\"scatterpolargl\",\"marker\":{\"colorbar\":{\"outlinewidth\":0,\"ticks\":\"\"}}}],\"bar\":[{\"error_x\":{\"color\":\"#2a3f5f\"},\"error_y\":{\"color\":\"#2a3f5f\"},\"marker\":{\"line\":{\"color\":\"#E5ECF6\",\"width\":0.5},\"pattern\":{\"fillmode\":\"overlay\",\"size\":10,\"solidity\":0.2}},\"type\":\"bar\"}],\"scattergeo\":[{\"type\":\"scattergeo\",\"marker\":{\"colorbar\":{\"outlinewidth\":0,\"ticks\":\"\"}}}],\"scatterpolar\":[{\"type\":\"scatterpolar\",\"marker\":{\"colorbar\":{\"outlinewidth\":0,\"ticks\":\"\"}}}],\"histogram\":[{\"marker\":{\"pattern\":{\"fillmode\":\"overlay\",\"size\":10,\"solidity\":0.2}},\"type\":\"histogram\"}],\"scattergl\":[{\"type\":\"scattergl\",\"marker\":{\"colorbar\":{\"outlinewidth\":0,\"ticks\":\"\"}}}],\"scatter3d\":[{\"type\":\"scatter3d\",\"line\":{\"colorbar\":{\"outlinewidth\":0,\"ticks\":\"\"}},\"marker\":{\"colorbar\":{\"outlinewidth\":0,\"ticks\":\"\"}}}],\"scattermapbox\":[{\"type\":\"scattermapbox\",\"marker\":{\"colorbar\":{\"outlinewidth\":0,\"ticks\":\"\"}}}],\"scatterternary\":[{\"type\":\"scatterternary\",\"marker\":{\"colorbar\":{\"outlinewidth\":0,\"ticks\":\"\"}}}],\"scattercarpet\":[{\"type\":\"scattercarpet\",\"marker\":{\"colorbar\":{\"outlinewidth\":0,\"ticks\":\"\"}}}],\"carpet\":[{\"aaxis\":{\"endlinecolor\":\"#2a3f5f\",\"gridcolor\":\"white\",\"linecolor\":\"white\",\"minorgridcolor\":\"white\",\"startlinecolor\":\"#2a3f5f\"},\"baxis\":{\"endlinecolor\":\"#2a3f5f\",\"gridcolor\":\"white\",\"linecolor\":\"white\",\"minorgridcolor\":\"white\",\"startlinecolor\":\"#2a3f5f\"},\"type\":\"carpet\"}],\"table\":[{\"cells\":{\"fill\":{\"color\":\"#EBF0F8\"},\"line\":{\"color\":\"white\"}},\"header\":{\"fill\":{\"color\":\"#C8D4E3\"},\"line\":{\"color\":\"white\"}},\"type\":\"table\"}],\"barpolar\":[{\"marker\":{\"line\":{\"color\":\"#E5ECF6\",\"width\":0.5},\"pattern\":{\"fillmode\":\"overlay\",\"size\":10,\"solidity\":0.2}},\"type\":\"barpolar\"}],\"pie\":[{\"automargin\":true,\"type\":\"pie\"}]},\"layout\":{\"autotypenumbers\":\"strict\",\"colorway\":[\"#636efa\",\"#EF553B\",\"#00cc96\",\"#ab63fa\",\"#FFA15A\",\"#19d3f3\",\"#FF6692\",\"#B6E880\",\"#FF97FF\",\"#FECB52\"],\"font\":{\"color\":\"#2a3f5f\"},\"hovermode\":\"closest\",\"hoverlabel\":{\"align\":\"left\"},\"paper_bgcolor\":\"white\",\"plot_bgcolor\":\"#E5ECF6\",\"polar\":{\"bgcolor\":\"#E5ECF6\",\"angularaxis\":{\"gridcolor\":\"white\",\"linecolor\":\"white\",\"ticks\":\"\"},\"radialaxis\":{\"gridcolor\":\"white\",\"linecolor\":\"white\",\"ticks\":\"\"}},\"ternary\":{\"bgcolor\":\"#E5ECF6\",\"aaxis\":{\"gridcolor\":\"white\",\"linecolor\":\"white\",\"ticks\":\"\"},\"baxis\":{\"gridcolor\":\"white\",\"linecolor\":\"white\",\"ticks\":\"\"},\"caxis\":{\"gridcolor\":\"white\",\"linecolor\":\"white\",\"ticks\":\"\"}},\"coloraxis\":{\"colorbar\":{\"outlinewidth\":0,\"ticks\":\"\"}},\"colorscale\":{\"sequential\":[[0.0,\"#0d0887\"],[0.1111111111111111,\"#46039f\"],[0.2222222222222222,\"#7201a8\"],[0.3333333333333333,\"#9c179e\"],[0.4444444444444444,\"#bd3786\"],[0.5555555555555556,\"#d8576b\"],[0.6666666666666666,\"#ed7953\"],[0.7777777777777778,\"#fb9f3a\"],[0.8888888888888888,\"#fdca26\"],[1.0,\"#f0f921\"]],\"sequentialminus\":[[0.0,\"#0d0887\"],[0.1111111111111111,\"#46039f\"],[0.2222222222222222,\"#7201a8\"],[0.3333333333333333,\"#9c179e\"],[0.4444444444444444,\"#bd3786\"],[0.5555555555555556,\"#d8576b\"],[0.6666666666666666,\"#ed7953\"],[0.7777777777777778,\"#fb9f3a\"],[0.8888888888888888,\"#fdca26\"],[1.0,\"#f0f921\"]],\"diverging\":[[0,\"#8e0152\"],[0.1,\"#c51b7d\"],[0.2,\"#de77ae\"],[0.3,\"#f1b6da\"],[0.4,\"#fde0ef\"],[0.5,\"#f7f7f7\"],[0.6,\"#e6f5d0\"],[0.7,\"#b8e186\"],[0.8,\"#7fbc41\"],[0.9,\"#4d9221\"],[1,\"#276419\"]]},\"xaxis\":{\"gridcolor\":\"white\",\"linecolor\":\"white\",\"ticks\":\"\",\"title\":{\"standoff\":15},\"zerolinecolor\":\"white\",\"automargin\":true,\"zerolinewidth\":2},\"yaxis\":{\"gridcolor\":\"white\",\"linecolor\":\"white\",\"ticks\":\"\",\"title\":{\"standoff\":15},\"zerolinecolor\":\"white\",\"automargin\":true,\"zerolinewidth\":2},\"scene\":{\"xaxis\":{\"backgroundcolor\":\"#E5ECF6\",\"gridcolor\":\"white\",\"linecolor\":\"white\",\"showbackground\":true,\"ticks\":\"\",\"zerolinecolor\":\"white\",\"gridwidth\":2},\"yaxis\":{\"backgroundcolor\":\"#E5ECF6\",\"gridcolor\":\"white\",\"linecolor\":\"white\",\"showbackground\":true,\"ticks\":\"\",\"zerolinecolor\":\"white\",\"gridwidth\":2},\"zaxis\":{\"backgroundcolor\":\"#E5ECF6\",\"gridcolor\":\"white\",\"linecolor\":\"white\",\"showbackground\":true,\"ticks\":\"\",\"zerolinecolor\":\"white\",\"gridwidth\":2}},\"shapedefaults\":{\"line\":{\"color\":\"#2a3f5f\"}},\"annotationdefaults\":{\"arrowcolor\":\"#2a3f5f\",\"arrowhead\":0,\"arrowwidth\":1},\"geo\":{\"bgcolor\":\"white\",\"landcolor\":\"#E5ECF6\",\"subunitcolor\":\"white\",\"showland\":true,\"showlakes\":true,\"lakecolor\":\"white\"},\"title\":{\"x\":0.05},\"mapbox\":{\"style\":\"light\"}}},\"margin\":{\"r\":20,\"b\":10,\"l\":10,\"t\":40},\"title\":{\"text\":\"3D Chroma Vector Store Visualization\"},\"scene\":{\"xaxis\":{\"title\":{\"text\":\"Dimension 1\"}},\"yaxis\":{\"title\":{\"text\":\"Dimension 2\"}},\"zaxis\":{\"title\":{\"text\":\"Dimension 3\"}}},\"width\":800,\"height\":600},                        {\"responsive\": true}                    ).then(function(){\n",
       "                            \n",
       "var gd = document.getElementById('18b8d6a1-ab2c-44e7-91a5-85dea2218edb');\n",
       "var x = new MutationObserver(function (mutations, observer) {{\n",
       "        var display = window.getComputedStyle(gd).display;\n",
       "        if (!display || display === 'none') {{\n",
       "            console.log([gd, 'removed!']);\n",
       "            Plotly.purge(gd);\n",
       "            observer.disconnect();\n",
       "        }}\n",
       "}});\n",
       "\n",
       "// Listen for the removal of the full notebook cells\n",
       "var notebookContainer = gd.closest('#notebook-container');\n",
       "if (notebookContainer) {{\n",
       "    x.observe(notebookContainer, {childList: true});\n",
       "}}\n",
       "\n",
       "// Listen for the clearing of the current output cell\n",
       "var outputEl = gd.closest('.output');\n",
       "if (outputEl) {{\n",
       "    x.observe(outputEl, {childList: true});\n",
       "}}\n",
       "\n",
       "                        })                };                });            </script>        </div>"
      ]
     },
     "metadata": {},
     "output_type": "display_data"
    }
   ],
   "source": [
    "# In[21]:\n",
    "import plotly.graph_objects as go\n",
    "\n",
    "# Create the 3D scatter plot with colors based on doc_type\n",
    "fig = go.Figure(data=[go.Scatter3d(\n",
    "    x=reduced_vectors[:, 0],\n",
    "    y=reduced_vectors[:, 1],\n",
    "    z=reduced_vectors[:, 2],\n",
    "    mode='markers',\n",
    "    marker=dict(\n",
    "        size=5,\n",
    "        color=colors_hex,  # Use the hexadecimal colors\n",
    "        opacity=0.8\n",
    "    ),\n",
    "    text=[f\"Type: {t}<br>Text: {d[:100]}...\" for t, d in zip(doc_types, documents)],\n",
    "    hoverinfo='text'\n",
    ")])\n",
    "\n",
    "fig.update_layout(\n",
    "    title='3D Chroma Vector Store Visualization',\n",
    "    scene=dict(\n",
    "        xaxis_title='Dimension 1',\n",
    "        yaxis_title='Dimension 2',\n",
    "        zaxis_title='Dimension 3'\n",
    "    ),\n",
    "    width=800,\n",
    "    height=600,\n",
    "    margin=dict(r=20, b=10, l=10, t=40)\n",
    ")\n",
    "\n",
    "fig.show()\n"
   ]
  },
  {
   "cell_type": "code",
   "execution_count": null,
   "id": "ab21b3ea-b059-46b9-b51f-e08d475a10a7",
   "metadata": {},
   "outputs": [],
   "source": []
  }
 ],
 "metadata": {
  "kernelspec": {
   "display_name": "Python 3 (ipykernel)",
   "language": "python",
   "name": "python3"
  },
  "language_info": {
   "codemirror_mode": {
    "name": "ipython",
    "version": 3
   },
   "file_extension": ".py",
   "mimetype": "text/x-python",
   "name": "python",
   "nbconvert_exporter": "python",
   "pygments_lexer": "ipython3",
   "version": "3.11.10"
  }
 },
 "nbformat": 4,
 "nbformat_minor": 5
}
